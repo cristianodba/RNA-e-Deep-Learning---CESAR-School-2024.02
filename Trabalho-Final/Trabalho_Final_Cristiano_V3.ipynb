{
  "cells": [
    {
      "cell_type": "markdown",
      "source": [
        "# Aluno : Cristiano Torres\n",
        "# Disciplina : Redes Neurais\n",
        "# Professor : Vitor Casadei\n",
        "# Email : cft@cesar.school\n",
        "# Requisitos:\n",
        "jupyter notebook você deverá fazer:\n",
        "\n",
        "(i) o carregamento do dataset e quaisquer manipulações que ache necessário fazer com os dados;\n",
        "\n",
        "(ii) a definição do modelo de redes neurais utilizada para treinar o modelo;\n",
        "\n",
        "(iii) o treinamento do modelo;\n",
        "\n",
        "(iv) uma análise simples da performance com no mínimo acurária e perda (ou pode adicionar outras métricas, como matriz de confusão, outros gráficos etc)\n",
        "\n",
        "Depois do treinamento,\n",
        "você deve escrever no mínimo um parágrafo explicando como foi o processo\n",
        "e sua experiência: quais dificuldades teve, se teve overfitting ou\n",
        "underfitting e se teve que fazer ajustes etc.\n",
        "\n"
      ],
      "metadata": {
        "id": "c5v5YOfi-ac8"
      }
    },
    {
      "cell_type": "markdown",
      "source": [
        "# Contexto do Arquivo\n",
        "\n",
        "From (https://www.kaggle.com/datasets/dynkums/cybersecurity-intrust-detection-dataset)\n",
        "\n",
        "DataSet Title: CyBerSecurity Intrusion Detection DataSet\n",
        "\n",
        "Este Conjunto de Dados de Detecção de Intrusão em Cibersegurança foi projetado para detectar intrusões cibernéticas com base no tráfego de rede e no comportamento do usuário. A seguir, explicarei cada aspecto em detalhes, incluindo a estrutura do conjunto de dados, a importância dos recursos, as possíveis abordagens de análise e como ele pode ser usado para aprendizado de máquina.\n",
        "\n",
        "Meu Objetivo\n",
        "\n",
        "Este projeto visa identificar padrões de comportamento e potenciais vulnerabilidades em dados de sessões de rede usando aprendizado supervisionado com redes neurais aplicando regressao logistica para um classificacao binaria como saida da coluna attack_detected.\n",
        "\n",
        "Observação Importante:\n",
        "\n",
        "A coluna attack_detected — que sinaliza se uma intrusão foi detectada (1) ou não (0) —  "
      ],
      "metadata": {
        "id": "4kPILdC71YmA"
      }
    },
    {
      "cell_type": "markdown",
      "source": [],
      "metadata": {
        "id": "5qPlepqz1g0c"
      }
    },
    {
      "cell_type": "markdown",
      "metadata": {
        "id": "mALEfpx54K7d"
      },
      "source": [
        "# Importação das bibliotecas"
      ]
    },
    {
      "cell_type": "code",
      "execution_count": 37,
      "metadata": {
        "id": "WN69WSbu4K7f"
      },
      "outputs": [],
      "source": [
        "import pandas as pd\n",
        "import numpy as np\n",
        "import matplotlib.pyplot as plt\n",
        "import seaborn as sns\n",
        "import nltk\n",
        "import re\n",
        "from collections import Counter\n",
        "from sklearn.feature_extraction.text import TfidfVectorizer\n",
        "from sklearn.metrics.pairwise import pairwise_distances\n",
        "from scipy.spatial.distance import cdist\n",
        "from google.colab import drive\n",
        "from scipy.cluster.hierarchy import dendrogram, linkage, single, average, fcluster,linkage\n",
        "from sklearn.preprocessing import StandardScaler, LabelEncoder\n",
        "from scipy.spatial.distance import mahalanobis\n",
        "from sklearn.cluster import KMeans\n",
        "from google.colab import drive\n",
        "from sklearn.cluster import KMeans\n",
        "from sklearn.metrics import silhouette_score, silhouette_samples\n",
        "import matplotlib.pyplot as plt\n",
        "import matplotlib.cm as cm\n",
        "from sklearn.preprocessing import LabelEncoder\n",
        "from sklearn.decomposition import PCA\n",
        "import argparse\n",
        "# http://pytorch.org/\n",
        "from os.path import exists\n",
        "import torch\n",
        "import torch.nn as nn\n",
        "import torch.nn.functional as F\n",
        "import torch.optim as optim\n",
        "from torchvision import datasets, transforms\n",
        "from torch.optim.lr_scheduler import StepLR\n",
        "from sklearn.model_selection import train_test_split\n",
        "from torch.utils.data import TensorDataset, DataLoader, random_split\n",
        "from sklearn.metrics import classification_report\n",
        "from sklearn.metrics import roc_curve, auc\n",
        "import os\n",
        "for dirname, _, filenames in os.walk('/kaggle/input'):\n",
        "    for filename in filenames:\n",
        "        print(os.path.join(dirname, filename))\n",
        "\n"
      ]
    },
    {
      "cell_type": "markdown",
      "source": [
        "# Carregando os Dados"
      ],
      "metadata": {
        "id": "xnughQAM1K9g"
      }
    },
    {
      "cell_type": "code",
      "source": [
        "# Montar o Google Drive\n",
        "drive.mount('/content/drive', force_remount=True)\n",
        "\n",
        "# Definir o caminho correto para a pasta \"shared drives\"\n",
        "file_path = \"/content/drive/Shared drives/dados/cybersecurity_intrusion_data.csv\"\n",
        "\n",
        "# Carregar o dataset\n",
        "dataframe = pd.read_csv(file_path)\n",
        "\n",
        "# Exibir as primeiras linhas para confirmar o carregamento\n",
        "dataframe.head()"
      ],
      "metadata": {
        "colab": {
          "base_uri": "https://localhost:8080/",
          "height": 225
        },
        "id": "s1BhKHlI1SzA",
        "outputId": "8939f61e-a36b-454d-fc19-d57039bc37de"
      },
      "execution_count": 38,
      "outputs": [
        {
          "output_type": "stream",
          "name": "stdout",
          "text": [
            "Mounted at /content/drive\n"
          ]
        },
        {
          "output_type": "execute_result",
          "data": {
            "text/plain": [
              "  session_id  network_packet_size protocol_type  login_attempts  \\\n",
              "0  SID_00001                  599           TCP               4   \n",
              "1  SID_00002                  472           TCP               3   \n",
              "2  SID_00003                  629           TCP               3   \n",
              "3  SID_00004                  804           UDP               4   \n",
              "4  SID_00005                  453           TCP               5   \n",
              "\n",
              "   session_duration encryption_used  ip_reputation_score  failed_logins  \\\n",
              "0        492.983263             DES             0.606818              1   \n",
              "1       1557.996461             DES             0.301569              0   \n",
              "2         75.044262             DES             0.739164              2   \n",
              "3        601.248835             DES             0.123267              0   \n",
              "4        532.540888             AES             0.054874              1   \n",
              "\n",
              "  browser_type  unusual_time_access  attack_detected  \n",
              "0         Edge                    0                1  \n",
              "1      Firefox                    0                0  \n",
              "2       Chrome                    0                1  \n",
              "3      Unknown                    0                1  \n",
              "4      Firefox                    0                0  "
            ],
            "text/html": [
              "\n",
              "  <div id=\"df-da480e49-97f1-43fa-90ef-92e2ababe9e4\" class=\"colab-df-container\">\n",
              "    <div>\n",
              "<style scoped>\n",
              "    .dataframe tbody tr th:only-of-type {\n",
              "        vertical-align: middle;\n",
              "    }\n",
              "\n",
              "    .dataframe tbody tr th {\n",
              "        vertical-align: top;\n",
              "    }\n",
              "\n",
              "    .dataframe thead th {\n",
              "        text-align: right;\n",
              "    }\n",
              "</style>\n",
              "<table border=\"1\" class=\"dataframe\">\n",
              "  <thead>\n",
              "    <tr style=\"text-align: right;\">\n",
              "      <th></th>\n",
              "      <th>session_id</th>\n",
              "      <th>network_packet_size</th>\n",
              "      <th>protocol_type</th>\n",
              "      <th>login_attempts</th>\n",
              "      <th>session_duration</th>\n",
              "      <th>encryption_used</th>\n",
              "      <th>ip_reputation_score</th>\n",
              "      <th>failed_logins</th>\n",
              "      <th>browser_type</th>\n",
              "      <th>unusual_time_access</th>\n",
              "      <th>attack_detected</th>\n",
              "    </tr>\n",
              "  </thead>\n",
              "  <tbody>\n",
              "    <tr>\n",
              "      <th>0</th>\n",
              "      <td>SID_00001</td>\n",
              "      <td>599</td>\n",
              "      <td>TCP</td>\n",
              "      <td>4</td>\n",
              "      <td>492.983263</td>\n",
              "      <td>DES</td>\n",
              "      <td>0.606818</td>\n",
              "      <td>1</td>\n",
              "      <td>Edge</td>\n",
              "      <td>0</td>\n",
              "      <td>1</td>\n",
              "    </tr>\n",
              "    <tr>\n",
              "      <th>1</th>\n",
              "      <td>SID_00002</td>\n",
              "      <td>472</td>\n",
              "      <td>TCP</td>\n",
              "      <td>3</td>\n",
              "      <td>1557.996461</td>\n",
              "      <td>DES</td>\n",
              "      <td>0.301569</td>\n",
              "      <td>0</td>\n",
              "      <td>Firefox</td>\n",
              "      <td>0</td>\n",
              "      <td>0</td>\n",
              "    </tr>\n",
              "    <tr>\n",
              "      <th>2</th>\n",
              "      <td>SID_00003</td>\n",
              "      <td>629</td>\n",
              "      <td>TCP</td>\n",
              "      <td>3</td>\n",
              "      <td>75.044262</td>\n",
              "      <td>DES</td>\n",
              "      <td>0.739164</td>\n",
              "      <td>2</td>\n",
              "      <td>Chrome</td>\n",
              "      <td>0</td>\n",
              "      <td>1</td>\n",
              "    </tr>\n",
              "    <tr>\n",
              "      <th>3</th>\n",
              "      <td>SID_00004</td>\n",
              "      <td>804</td>\n",
              "      <td>UDP</td>\n",
              "      <td>4</td>\n",
              "      <td>601.248835</td>\n",
              "      <td>DES</td>\n",
              "      <td>0.123267</td>\n",
              "      <td>0</td>\n",
              "      <td>Unknown</td>\n",
              "      <td>0</td>\n",
              "      <td>1</td>\n",
              "    </tr>\n",
              "    <tr>\n",
              "      <th>4</th>\n",
              "      <td>SID_00005</td>\n",
              "      <td>453</td>\n",
              "      <td>TCP</td>\n",
              "      <td>5</td>\n",
              "      <td>532.540888</td>\n",
              "      <td>AES</td>\n",
              "      <td>0.054874</td>\n",
              "      <td>1</td>\n",
              "      <td>Firefox</td>\n",
              "      <td>0</td>\n",
              "      <td>0</td>\n",
              "    </tr>\n",
              "  </tbody>\n",
              "</table>\n",
              "</div>\n",
              "    <div class=\"colab-df-buttons\">\n",
              "\n",
              "  <div class=\"colab-df-container\">\n",
              "    <button class=\"colab-df-convert\" onclick=\"convertToInteractive('df-da480e49-97f1-43fa-90ef-92e2ababe9e4')\"\n",
              "            title=\"Convert this dataframe to an interactive table.\"\n",
              "            style=\"display:none;\">\n",
              "\n",
              "  <svg xmlns=\"http://www.w3.org/2000/svg\" height=\"24px\" viewBox=\"0 -960 960 960\">\n",
              "    <path d=\"M120-120v-720h720v720H120Zm60-500h600v-160H180v160Zm220 220h160v-160H400v160Zm0 220h160v-160H400v160ZM180-400h160v-160H180v160Zm440 0h160v-160H620v160ZM180-180h160v-160H180v160Zm440 0h160v-160H620v160Z\"/>\n",
              "  </svg>\n",
              "    </button>\n",
              "\n",
              "  <style>\n",
              "    .colab-df-container {\n",
              "      display:flex;\n",
              "      gap: 12px;\n",
              "    }\n",
              "\n",
              "    .colab-df-convert {\n",
              "      background-color: #E8F0FE;\n",
              "      border: none;\n",
              "      border-radius: 50%;\n",
              "      cursor: pointer;\n",
              "      display: none;\n",
              "      fill: #1967D2;\n",
              "      height: 32px;\n",
              "      padding: 0 0 0 0;\n",
              "      width: 32px;\n",
              "    }\n",
              "\n",
              "    .colab-df-convert:hover {\n",
              "      background-color: #E2EBFA;\n",
              "      box-shadow: 0px 1px 2px rgba(60, 64, 67, 0.3), 0px 1px 3px 1px rgba(60, 64, 67, 0.15);\n",
              "      fill: #174EA6;\n",
              "    }\n",
              "\n",
              "    .colab-df-buttons div {\n",
              "      margin-bottom: 4px;\n",
              "    }\n",
              "\n",
              "    [theme=dark] .colab-df-convert {\n",
              "      background-color: #3B4455;\n",
              "      fill: #D2E3FC;\n",
              "    }\n",
              "\n",
              "    [theme=dark] .colab-df-convert:hover {\n",
              "      background-color: #434B5C;\n",
              "      box-shadow: 0px 1px 3px 1px rgba(0, 0, 0, 0.15);\n",
              "      filter: drop-shadow(0px 1px 2px rgba(0, 0, 0, 0.3));\n",
              "      fill: #FFFFFF;\n",
              "    }\n",
              "  </style>\n",
              "\n",
              "    <script>\n",
              "      const buttonEl =\n",
              "        document.querySelector('#df-da480e49-97f1-43fa-90ef-92e2ababe9e4 button.colab-df-convert');\n",
              "      buttonEl.style.display =\n",
              "        google.colab.kernel.accessAllowed ? 'block' : 'none';\n",
              "\n",
              "      async function convertToInteractive(key) {\n",
              "        const element = document.querySelector('#df-da480e49-97f1-43fa-90ef-92e2ababe9e4');\n",
              "        const dataTable =\n",
              "          await google.colab.kernel.invokeFunction('convertToInteractive',\n",
              "                                                    [key], {});\n",
              "        if (!dataTable) return;\n",
              "\n",
              "        const docLinkHtml = 'Like what you see? Visit the ' +\n",
              "          '<a target=\"_blank\" href=https://colab.research.google.com/notebooks/data_table.ipynb>data table notebook</a>'\n",
              "          + ' to learn more about interactive tables.';\n",
              "        element.innerHTML = '';\n",
              "        dataTable['output_type'] = 'display_data';\n",
              "        await google.colab.output.renderOutput(dataTable, element);\n",
              "        const docLink = document.createElement('div');\n",
              "        docLink.innerHTML = docLinkHtml;\n",
              "        element.appendChild(docLink);\n",
              "      }\n",
              "    </script>\n",
              "  </div>\n",
              "\n",
              "\n",
              "    <div id=\"df-3394b299-08d0-43ff-af4a-f495ebce47e0\">\n",
              "      <button class=\"colab-df-quickchart\" onclick=\"quickchart('df-3394b299-08d0-43ff-af4a-f495ebce47e0')\"\n",
              "                title=\"Suggest charts\"\n",
              "                style=\"display:none;\">\n",
              "\n",
              "<svg xmlns=\"http://www.w3.org/2000/svg\" height=\"24px\"viewBox=\"0 0 24 24\"\n",
              "     width=\"24px\">\n",
              "    <g>\n",
              "        <path d=\"M19 3H5c-1.1 0-2 .9-2 2v14c0 1.1.9 2 2 2h14c1.1 0 2-.9 2-2V5c0-1.1-.9-2-2-2zM9 17H7v-7h2v7zm4 0h-2V7h2v10zm4 0h-2v-4h2v4z\"/>\n",
              "    </g>\n",
              "</svg>\n",
              "      </button>\n",
              "\n",
              "<style>\n",
              "  .colab-df-quickchart {\n",
              "      --bg-color: #E8F0FE;\n",
              "      --fill-color: #1967D2;\n",
              "      --hover-bg-color: #E2EBFA;\n",
              "      --hover-fill-color: #174EA6;\n",
              "      --disabled-fill-color: #AAA;\n",
              "      --disabled-bg-color: #DDD;\n",
              "  }\n",
              "\n",
              "  [theme=dark] .colab-df-quickchart {\n",
              "      --bg-color: #3B4455;\n",
              "      --fill-color: #D2E3FC;\n",
              "      --hover-bg-color: #434B5C;\n",
              "      --hover-fill-color: #FFFFFF;\n",
              "      --disabled-bg-color: #3B4455;\n",
              "      --disabled-fill-color: #666;\n",
              "  }\n",
              "\n",
              "  .colab-df-quickchart {\n",
              "    background-color: var(--bg-color);\n",
              "    border: none;\n",
              "    border-radius: 50%;\n",
              "    cursor: pointer;\n",
              "    display: none;\n",
              "    fill: var(--fill-color);\n",
              "    height: 32px;\n",
              "    padding: 0;\n",
              "    width: 32px;\n",
              "  }\n",
              "\n",
              "  .colab-df-quickchart:hover {\n",
              "    background-color: var(--hover-bg-color);\n",
              "    box-shadow: 0 1px 2px rgba(60, 64, 67, 0.3), 0 1px 3px 1px rgba(60, 64, 67, 0.15);\n",
              "    fill: var(--button-hover-fill-color);\n",
              "  }\n",
              "\n",
              "  .colab-df-quickchart-complete:disabled,\n",
              "  .colab-df-quickchart-complete:disabled:hover {\n",
              "    background-color: var(--disabled-bg-color);\n",
              "    fill: var(--disabled-fill-color);\n",
              "    box-shadow: none;\n",
              "  }\n",
              "\n",
              "  .colab-df-spinner {\n",
              "    border: 2px solid var(--fill-color);\n",
              "    border-color: transparent;\n",
              "    border-bottom-color: var(--fill-color);\n",
              "    animation:\n",
              "      spin 1s steps(1) infinite;\n",
              "  }\n",
              "\n",
              "  @keyframes spin {\n",
              "    0% {\n",
              "      border-color: transparent;\n",
              "      border-bottom-color: var(--fill-color);\n",
              "      border-left-color: var(--fill-color);\n",
              "    }\n",
              "    20% {\n",
              "      border-color: transparent;\n",
              "      border-left-color: var(--fill-color);\n",
              "      border-top-color: var(--fill-color);\n",
              "    }\n",
              "    30% {\n",
              "      border-color: transparent;\n",
              "      border-left-color: var(--fill-color);\n",
              "      border-top-color: var(--fill-color);\n",
              "      border-right-color: var(--fill-color);\n",
              "    }\n",
              "    40% {\n",
              "      border-color: transparent;\n",
              "      border-right-color: var(--fill-color);\n",
              "      border-top-color: var(--fill-color);\n",
              "    }\n",
              "    60% {\n",
              "      border-color: transparent;\n",
              "      border-right-color: var(--fill-color);\n",
              "    }\n",
              "    80% {\n",
              "      border-color: transparent;\n",
              "      border-right-color: var(--fill-color);\n",
              "      border-bottom-color: var(--fill-color);\n",
              "    }\n",
              "    90% {\n",
              "      border-color: transparent;\n",
              "      border-bottom-color: var(--fill-color);\n",
              "    }\n",
              "  }\n",
              "</style>\n",
              "\n",
              "      <script>\n",
              "        async function quickchart(key) {\n",
              "          const quickchartButtonEl =\n",
              "            document.querySelector('#' + key + ' button');\n",
              "          quickchartButtonEl.disabled = true;  // To prevent multiple clicks.\n",
              "          quickchartButtonEl.classList.add('colab-df-spinner');\n",
              "          try {\n",
              "            const charts = await google.colab.kernel.invokeFunction(\n",
              "                'suggestCharts', [key], {});\n",
              "          } catch (error) {\n",
              "            console.error('Error during call to suggestCharts:', error);\n",
              "          }\n",
              "          quickchartButtonEl.classList.remove('colab-df-spinner');\n",
              "          quickchartButtonEl.classList.add('colab-df-quickchart-complete');\n",
              "        }\n",
              "        (() => {\n",
              "          let quickchartButtonEl =\n",
              "            document.querySelector('#df-3394b299-08d0-43ff-af4a-f495ebce47e0 button');\n",
              "          quickchartButtonEl.style.display =\n",
              "            google.colab.kernel.accessAllowed ? 'block' : 'none';\n",
              "        })();\n",
              "      </script>\n",
              "    </div>\n",
              "\n",
              "    </div>\n",
              "  </div>\n"
            ],
            "application/vnd.google.colaboratory.intrinsic+json": {
              "type": "dataframe",
              "variable_name": "dataframe",
              "summary": "{\n  \"name\": \"dataframe\",\n  \"rows\": 9537,\n  \"fields\": [\n    {\n      \"column\": \"session_id\",\n      \"properties\": {\n        \"dtype\": \"string\",\n        \"num_unique_values\": 9537,\n        \"samples\": [\n          \"SID_01163\",\n          \"SID_02300\",\n          \"SID_01150\"\n        ],\n        \"semantic_type\": \"\",\n        \"description\": \"\"\n      }\n    },\n    {\n      \"column\": \"network_packet_size\",\n      \"properties\": {\n        \"dtype\": \"number\",\n        \"std\": 198,\n        \"min\": 64,\n        \"max\": 1285,\n        \"num_unique_values\": 959,\n        \"samples\": [\n          961,\n          374,\n          308\n        ],\n        \"semantic_type\": \"\",\n        \"description\": \"\"\n      }\n    },\n    {\n      \"column\": \"protocol_type\",\n      \"properties\": {\n        \"dtype\": \"category\",\n        \"num_unique_values\": 3,\n        \"samples\": [\n          \"TCP\",\n          \"UDP\",\n          \"ICMP\"\n        ],\n        \"semantic_type\": \"\",\n        \"description\": \"\"\n      }\n    },\n    {\n      \"column\": \"login_attempts\",\n      \"properties\": {\n        \"dtype\": \"number\",\n        \"std\": 1,\n        \"min\": 1,\n        \"max\": 13,\n        \"num_unique_values\": 13,\n        \"samples\": [\n          13,\n          10,\n          4\n        ],\n        \"semantic_type\": \"\",\n        \"description\": \"\"\n      }\n    },\n    {\n      \"column\": \"session_duration\",\n      \"properties\": {\n        \"dtype\": \"number\",\n        \"std\": 786.5601443335578,\n        \"min\": 0.5,\n        \"max\": 7190.392212563188,\n        \"num_unique_values\": 9532,\n        \"samples\": [\n          312.446716793158,\n          204.29162387857312,\n          413.5259731467647\n        ],\n        \"semantic_type\": \"\",\n        \"description\": \"\"\n      }\n    },\n    {\n      \"column\": \"encryption_used\",\n      \"properties\": {\n        \"dtype\": \"category\",\n        \"num_unique_values\": 2,\n        \"samples\": [\n          \"AES\",\n          \"DES\"\n        ],\n        \"semantic_type\": \"\",\n        \"description\": \"\"\n      }\n    },\n    {\n      \"column\": \"ip_reputation_score\",\n      \"properties\": {\n        \"dtype\": \"number\",\n        \"std\": 0.17717487030678516,\n        \"min\": 0.0024968331802346,\n        \"max\": 0.924299191969215,\n        \"num_unique_values\": 9537,\n        \"samples\": [\n          0.3404207973052711,\n          0.1102917808864162\n        ],\n        \"semantic_type\": \"\",\n        \"description\": \"\"\n      }\n    },\n    {\n      \"column\": \"failed_logins\",\n      \"properties\": {\n        \"dtype\": \"number\",\n        \"std\": 1,\n        \"min\": 0,\n        \"max\": 5,\n        \"num_unique_values\": 6,\n        \"samples\": [\n          1,\n          0\n        ],\n        \"semantic_type\": \"\",\n        \"description\": \"\"\n      }\n    },\n    {\n      \"column\": \"browser_type\",\n      \"properties\": {\n        \"dtype\": \"category\",\n        \"num_unique_values\": 5,\n        \"samples\": [\n          \"Firefox\",\n          \"Safari\"\n        ],\n        \"semantic_type\": \"\",\n        \"description\": \"\"\n      }\n    },\n    {\n      \"column\": \"unusual_time_access\",\n      \"properties\": {\n        \"dtype\": \"number\",\n        \"std\": 0,\n        \"min\": 0,\n        \"max\": 1,\n        \"num_unique_values\": 2,\n        \"samples\": [\n          1,\n          0\n        ],\n        \"semantic_type\": \"\",\n        \"description\": \"\"\n      }\n    },\n    {\n      \"column\": \"attack_detected\",\n      \"properties\": {\n        \"dtype\": \"number\",\n        \"std\": 0,\n        \"min\": 0,\n        \"max\": 1,\n        \"num_unique_values\": 2,\n        \"samples\": [\n          0,\n          1\n        ],\n        \"semantic_type\": \"\",\n        \"description\": \"\"\n      }\n    }\n  ]\n}"
            }
          },
          "metadata": {},
          "execution_count": 38
        }
      ]
    },
    {
      "cell_type": "markdown",
      "source": [
        "# Preparando o Ambiente: 🛠️"
      ],
      "metadata": {
        "id": "nNehhWB-5_Ny"
      }
    },
    {
      "cell_type": "code",
      "source": [
        "# Display Initial Informationprint(\"Inicial Information:\")\n",
        "print(dataframe.info())\n",
        "\n",
        "# Display General Statisticsprint(\"\\n General Statistics:\")\n",
        "print(dataframe.describe())\n",
        "\n",
        "# Check missing valuesprint(\"\\n missing values:\")\n",
        "print(dataframe.isna().sum())"
      ],
      "metadata": {
        "colab": {
          "base_uri": "https://localhost:8080/"
        },
        "id": "HZ5Z1Ja-6EZL",
        "outputId": "ff31f6d1-0ad5-4fc0-8cba-dea6c558c7b7"
      },
      "execution_count": 39,
      "outputs": [
        {
          "output_type": "stream",
          "name": "stdout",
          "text": [
            "<class 'pandas.core.frame.DataFrame'>\n",
            "RangeIndex: 9537 entries, 0 to 9536\n",
            "Data columns (total 11 columns):\n",
            " #   Column               Non-Null Count  Dtype  \n",
            "---  ------               --------------  -----  \n",
            " 0   session_id           9537 non-null   object \n",
            " 1   network_packet_size  9537 non-null   int64  \n",
            " 2   protocol_type        9537 non-null   object \n",
            " 3   login_attempts       9537 non-null   int64  \n",
            " 4   session_duration     9537 non-null   float64\n",
            " 5   encryption_used      7571 non-null   object \n",
            " 6   ip_reputation_score  9537 non-null   float64\n",
            " 7   failed_logins        9537 non-null   int64  \n",
            " 8   browser_type         9537 non-null   object \n",
            " 9   unusual_time_access  9537 non-null   int64  \n",
            " 10  attack_detected      9537 non-null   int64  \n",
            "dtypes: float64(2), int64(5), object(4)\n",
            "memory usage: 819.7+ KB\n",
            "None\n",
            "       network_packet_size  login_attempts  session_duration  \\\n",
            "count          9537.000000     9537.000000       9537.000000   \n",
            "mean            500.430639        4.032086        792.745312   \n",
            "std             198.379364        1.963012        786.560144   \n",
            "min              64.000000        1.000000          0.500000   \n",
            "25%             365.000000        3.000000        231.953006   \n",
            "50%             499.000000        4.000000        556.277457   \n",
            "75%             635.000000        5.000000       1105.380602   \n",
            "max            1285.000000       13.000000       7190.392213   \n",
            "\n",
            "       ip_reputation_score  failed_logins  unusual_time_access  \\\n",
            "count          9537.000000    9537.000000          9537.000000   \n",
            "mean              0.331338       1.517773             0.149942   \n",
            "std               0.177175       1.033988             0.357034   \n",
            "min               0.002497       0.000000             0.000000   \n",
            "25%               0.191946       1.000000             0.000000   \n",
            "50%               0.314778       1.000000             0.000000   \n",
            "75%               0.453388       2.000000             0.000000   \n",
            "max               0.924299       5.000000             1.000000   \n",
            "\n",
            "       attack_detected  \n",
            "count      9537.000000  \n",
            "mean          0.447101  \n",
            "std           0.497220  \n",
            "min           0.000000  \n",
            "25%           0.000000  \n",
            "50%           0.000000  \n",
            "75%           1.000000  \n",
            "max           1.000000  \n",
            "session_id                0\n",
            "network_packet_size       0\n",
            "protocol_type             0\n",
            "login_attempts            0\n",
            "session_duration          0\n",
            "encryption_used        1966\n",
            "ip_reputation_score       0\n",
            "failed_logins             0\n",
            "browser_type              0\n",
            "unusual_time_access       0\n",
            "attack_detected           0\n",
            "dtype: int64\n"
          ]
        }
      ]
    },
    {
      "cell_type": "code",
      "source": [
        "# Replace missing values ​​of 'Encryption Used' with \"Name\"\n",
        "dataframe = dataframe.copy()  #Create a copy of Dataframe to avoid attribution problemsdataframe['encryption_used'] = dataframe['encryption_used'].fillna(\"None\")\n",
        "\n",
        "\n",
        "# Check if there are still missing valuesprint(\"\\ MISSING VALUES:\")\n",
        "print(dataframe.isna().sum())"
      ],
      "metadata": {
        "colab": {
          "base_uri": "https://localhost:8080/"
        },
        "id": "ct3AxPVx6SH8",
        "outputId": "e07bbad3-0082-4a9d-abfa-8257dea9c41c"
      },
      "execution_count": 40,
      "outputs": [
        {
          "output_type": "stream",
          "name": "stdout",
          "text": [
            "session_id                0\n",
            "network_packet_size       0\n",
            "protocol_type             0\n",
            "login_attempts            0\n",
            "session_duration          0\n",
            "encryption_used        1966\n",
            "ip_reputation_score       0\n",
            "failed_logins             0\n",
            "browser_type              0\n",
            "unusual_time_access       0\n",
            "attack_detected           0\n",
            "dtype: int64\n"
          ]
        }
      ]
    },
    {
      "cell_type": "markdown",
      "source": [
        "# Analise Exploratoria dos Dados (EDA) 👓\n",
        "\n",
        "\n"
      ],
      "metadata": {
        "id": "MuFD89UD63HT"
      }
    },
    {
      "cell_type": "markdown",
      "source": [
        "Convertendo as colunas categóricas (protocol_type, browser_type e enryction_used) em valores numéricos."
      ],
      "metadata": {
        "id": "jfYs51Th9EsN"
      }
    },
    {
      "cell_type": "code",
      "source": [
        "# Create a labelencoder\n",
        "\n",
        "label_encoder = LabelEncoder()\n",
        "\n",
        "# Apply Label Encoding to the categorical columns\n",
        "\n",
        "categorical_columns = ['protocol_type', 'browser_type', 'encryption_used']\n",
        "\n",
        "for col in categorical_columns:\n",
        "    dataframe[col] = label_encoder.fit_transform(dataframe[col])\n",
        "\n",
        "# Display the first values ​​to verify the transformation\n",
        "print(\"\\nDISPLAY FIRST VALUES TO VERIFY THE TRANSFORMATION:\")\n",
        "print(dataframe.head())\n",
        "#print(dataframe.describe())\n"
      ],
      "metadata": {
        "colab": {
          "base_uri": "https://localhost:8080/"
        },
        "id": "9l5fqTAW85XT",
        "outputId": "f8e939d7-b2ec-48a7-aef0-eb5a0e5b8166"
      },
      "execution_count": 41,
      "outputs": [
        {
          "output_type": "stream",
          "name": "stdout",
          "text": [
            "\n",
            "DISPLAY FIRST VALUES TO VERIFY THE TRANSFORMATION:\n",
            "  session_id  network_packet_size  protocol_type  login_attempts  \\\n",
            "0  SID_00001                  599              1               4   \n",
            "1  SID_00002                  472              1               3   \n",
            "2  SID_00003                  629              1               3   \n",
            "3  SID_00004                  804              2               4   \n",
            "4  SID_00005                  453              1               5   \n",
            "\n",
            "   session_duration  encryption_used  ip_reputation_score  failed_logins  \\\n",
            "0        492.983263                1             0.606818              1   \n",
            "1       1557.996461                1             0.301569              0   \n",
            "2         75.044262                1             0.739164              2   \n",
            "3        601.248835                1             0.123267              0   \n",
            "4        532.540888                0             0.054874              1   \n",
            "\n",
            "   browser_type  unusual_time_access  attack_detected  \n",
            "0             1                    0                1  \n",
            "1             2                    0                0  \n",
            "2             0                    0                1  \n",
            "3             4                    0                1  \n",
            "4             2                    0                0  \n"
          ]
        }
      ]
    },
    {
      "cell_type": "markdown",
      "source": [
        "\n",
        "\n",
        "```\n",
        "# Isto está formatado como código\n",
        "```\n",
        "\n",
        "# Removendo Colunas e Normalizando o DATASET"
      ],
      "metadata": {
        "id": "_WXHSCEN7Ovx"
      }
    },
    {
      "cell_type": "code",
      "source": [
        "# 1. Preparar os dados\n",
        "y = dataframe['attack_detected'].values.astype(np.float32)\n",
        "X = dataframe.drop(columns=['attack_detected', 'session_id']).values.astype(np.float32)\n",
        "\n",
        "# Normalize the numerical data\n",
        "scaler = StandardScaler()\n",
        "X = scaler.fit_transform(X)\n",
        "\n",
        "# Create a new dataframe with normalized data\n",
        "#X_scaled_df = pd.DataFrame(X_scaled, columns=X.columns)\n",
        "\n",
        "# Display the first standard values\n",
        "# print(\"\\nFIRST STANDARD VALUES:\")\n",
        "# print(X_scaled_df.head())\n",
        "print(X)\n",
        "#print(X.shape[1])\n",
        "#print(X.isna().sum())\n"
      ],
      "metadata": {
        "colab": {
          "base_uri": "https://localhost:8080/"
        },
        "id": "NDAE5zVY7DLh",
        "outputId": "bcaec7d6-345f-4ca1-ec48-2cf572478632"
      },
      "execution_count": 42,
      "outputs": [
        {
          "output_type": "stream",
          "name": "stdout",
          "text": [
            "[[ 0.4968991  -0.38622555 -0.01634592 ... -0.5007795   0.06322462\n",
            "  -0.419989  ]\n",
            " [-0.14332202 -0.38622555 -0.5257938  ... -1.4679593   0.9041915\n",
            "  -0.419989  ]\n",
            " [ 0.64813244 -0.38622555 -0.5257938  ...  0.46640033 -0.7777422\n",
            "  -0.419989  ]\n",
            " ...\n",
            " [ 0.8245714  -0.38622555  0.49310198 ... -0.5007795   0.9041915\n",
            "  -0.419989  ]\n",
            " [-0.47603536 -0.38622555 -0.01634592 ... -0.5007795  -0.7777422\n",
            "   2.3810146 ]\n",
            " [-0.80874866 -0.38622555  1.0025499  ...  2.40076    -0.7777422\n",
            "   2.3810146 ]]\n"
          ]
        }
      ]
    },
    {
      "cell_type": "code",
      "source": [
        "# Plot de dispersão usando as duas primeiras features\n",
        "# plt.figure(figsize=(8, 6))\n",
        "# plt.scatter(X_scaled_df.iloc[:, 0], X_scaled_df.iloc[:, 1], alpha=0.7, edgecolor='k')\n",
        "# plt.xlabel(f'{X_scaled_df.columns[0]} (padronizado)')\n",
        "# plt.ylabel(f'{X_scaled_df.columns[1]} (padronizado)')\n",
        "# plt.title('Scatter Plot com Dados Padronizados')\n",
        "# plt.grid(True)\n",
        "# plt.show()"
      ],
      "metadata": {
        "collapsed": true,
        "id": "Fy8fsO8ZRbTv"
      },
      "execution_count": 43,
      "outputs": []
    },
    {
      "cell_type": "markdown",
      "source": [
        "# Separando Treino em Teste"
      ],
      "metadata": {
        "id": "LMGCFjtsfiWp"
      }
    },
    {
      "cell_type": "code",
      "source": [
        "X_train, X_test, y_train, y_test = train_test_split(X, y, test_size=0.2, random_state=42)\n",
        "\n",
        "X_train\n",
        "#y_train"
      ],
      "metadata": {
        "colab": {
          "base_uri": "https://localhost:8080/"
        },
        "id": "fVxGOAy6fouI",
        "outputId": "984cbc9c-6fdb-4bf4-9738-b99837f4b7de"
      },
      "execution_count": 44,
      "outputs": [
        {
          "output_type": "execute_result",
          "data": {
            "text/plain": [
              "array([[ 0.48681688,  1.5534444 , -1.0352418 , ...,  1.43358   ,\n",
              "        -0.7777422 , -0.419989  ],\n",
              "       [ 0.03815799,  1.5534444 ,  1.0025499 , ..., -0.5007795 ,\n",
              "         0.06322462, -0.419989  ],\n",
              "       [ 1.9336158 , -0.38622555, -0.5257938 , ..., -0.5007795 ,\n",
              "        -0.7777422 , -0.419989  ],\n",
              "       ...,\n",
              "       [-0.70792645, -0.38622555, -1.0352418 , ..., -1.4679593 ,\n",
              "         0.9041915 , -0.419989  ],\n",
              "       [ 0.19947356, -0.38622555, -0.5257938 , ...,  0.46640033,\n",
              "        -0.7777422 , -0.419989  ],\n",
              "       [-1.7363131 , -0.38622555, -1.0352418 , ..., -1.4679593 ,\n",
              "        -0.7777422 ,  2.3810146 ]], dtype=float32)"
            ]
          },
          "metadata": {},
          "execution_count": 44
        }
      ]
    },
    {
      "cell_type": "markdown",
      "source": [
        "# Converter para tensores do PyTorch"
      ],
      "metadata": {
        "id": "S5QBccsrft-3"
      }
    },
    {
      "cell_type": "code",
      "source": [
        "X_train_tensor = torch.tensor(X_train).float()\n",
        "y_train_tensor = torch.tensor(y_train).float().unsqueeze(1)  # Para saída compatível com sigmoid\n",
        "X_test_tensor = torch.tensor(X_test).float()\n",
        "y_test_tensor = torch.tensor(y_test).float().unsqueeze(1)\n",
        "\n",
        "\n",
        "#y_train_tensor.shape\n",
        "X_train_tensor.shape"
      ],
      "metadata": {
        "id": "aUQCrY1Ufq-G",
        "colab": {
          "base_uri": "https://localhost:8080/"
        },
        "outputId": "26f69252-f600-4c6a-a46a-32b804669c1b"
      },
      "execution_count": 45,
      "outputs": [
        {
          "output_type": "execute_result",
          "data": {
            "text/plain": [
              "torch.Size([7629, 9])"
            ]
          },
          "metadata": {},
          "execution_count": 45
        }
      ]
    },
    {
      "cell_type": "markdown",
      "source": [
        "# Criar DataLoaders"
      ],
      "metadata": {
        "id": "61oArLjkfy2_"
      }
    },
    {
      "cell_type": "code",
      "source": [
        "train_dataset = TensorDataset(X_train_tensor, y_train_tensor)\n",
        "test_dataset = TensorDataset(X_test_tensor, y_test_tensor)\n",
        "\n",
        "train_loader = DataLoader(train_dataset, batch_size=64, shuffle=True)\n",
        "test_loader = DataLoader(test_dataset, batch_size=64)\n"
      ],
      "metadata": {
        "id": "tCD5DeKrfzlc"
      },
      "execution_count": 46,
      "outputs": []
    },
    {
      "cell_type": "markdown",
      "source": [
        "#  Definir modelo de rede neural"
      ],
      "metadata": {
        "id": "X5RPPKoqf8X-"
      }
    },
    {
      "cell_type": "code",
      "source": [
        "#X.shape[1]\n"
      ],
      "metadata": {
        "id": "CL5ePA4Uf9D1"
      },
      "execution_count": 47,
      "outputs": []
    },
    {
      "cell_type": "markdown",
      "metadata": {
        "id": "sulShD5y4K7V"
      },
      "source": [
        "# Treinamento com interface de alto nível"
      ]
    },
    {
      "cell_type": "markdown",
      "metadata": {
        "id": "4T8iS1Jc4K7q"
      },
      "source": [
        "## Criação da rede"
      ]
    },
    {
      "cell_type": "code",
      "source": [
        "# # # Definir modelo de rede neural\n",
        "class IntrusionDetectionNN(nn.Module):\n",
        "    def __init__(self, input_dim):\n",
        "        super(IntrusionDetectionNN, self).__init__()\n",
        "        self.fc1 = nn.Linear(input_dim, 128)\n",
        "        self.dropout1 = nn.Dropout(0.3)\n",
        "        self.fc2 = nn.Linear(128, 64)\n",
        "        self.dropout2 = nn.Dropout(0.3)\n",
        "        self.output = nn.Linear(64, 1)\n",
        "\n",
        "    def forward(self, x):\n",
        "        x = torch.relu(self.fc1(x))\n",
        "        x = self.dropout1(x)\n",
        "        x = torch.relu(self.fc2(x))\n",
        "        x = self.dropout2(x)\n",
        "        return torch.sigmoid(self.output(x))  # Para BCE Loss"
      ],
      "metadata": {
        "id": "2eFD6L4Tkkyh"
      },
      "execution_count": 48,
      "outputs": []
    },
    {
      "cell_type": "markdown",
      "source": [
        "# Iniciando a REDE"
      ],
      "metadata": {
        "id": "A_p8pkpqv1NF"
      }
    },
    {
      "cell_type": "code",
      "source": [
        "model = IntrusionDetectionNN(input_dim=X.shape[1])\n",
        "#model.state_dict()"
      ],
      "metadata": {
        "id": "7ekWrMh1v3Si",
        "collapsed": true
      },
      "execution_count": 49,
      "outputs": []
    },
    {
      "cell_type": "markdown",
      "metadata": {
        "id": "400Lbat24K7v"
      },
      "source": [
        "## Treinamento"
      ]
    },
    {
      "cell_type": "markdown",
      "metadata": {
        "id": "2cqllMDO4K7y"
      },
      "source": [
        "### Criando o objeto de treinamento"
      ]
    },
    {
      "cell_type": "code",
      "source": [
        "# # 3 Treinar o modelo\n",
        "criterion = nn.BCELoss()\n",
        "optimizer = optim.Adam(model.parameters(), lr=0.01)\n",
        "\n",
        "num_epochs = 20\n",
        "\n",
        "for epoch in range(num_epochs):\n",
        "    model.train()\n",
        "    total_loss = 0\n",
        "    for inputs, labels in train_loader:\n",
        "        optimizer.zero_grad()\n",
        "        outputs = model(inputs)\n",
        "        loss = criterion(outputs, labels)\n",
        "        loss.backward()\n",
        "        optimizer.step()\n",
        "        total_loss += loss.item()\n",
        "    avg_loss = total_loss / len(train_loader)\n",
        "    print(f\"Epoch {epoch+1}/{num_epochs}, Loss: {avg_loss:.4f}\")\n",
        "#     print(f\"Epoch {epoch+1}/{num_epochs}, Loss: {total_loss:.4f}\")\n",
        "\n",
        "\n",
        "\n",
        "\n"
      ],
      "metadata": {
        "colab": {
          "base_uri": "https://localhost:8080/"
        },
        "collapsed": true,
        "id": "judtZMsikz_5",
        "outputId": "a7673eb9-8773-42c3-c46c-d4f7d3f1c6d4"
      },
      "execution_count": 64,
      "outputs": [
        {
          "output_type": "stream",
          "name": "stdout",
          "text": [
            "Epoch 1/20, Loss: 0.2876\n",
            "Epoch 2/20, Loss: 0.2884\n",
            "Epoch 3/20, Loss: 0.2837\n",
            "Epoch 4/20, Loss: 0.2902\n",
            "Epoch 5/20, Loss: 0.2872\n",
            "Epoch 6/20, Loss: 0.2827\n",
            "Epoch 7/20, Loss: 0.2872\n",
            "Epoch 8/20, Loss: 0.2856\n",
            "Epoch 9/20, Loss: 0.2826\n",
            "Epoch 10/20, Loss: 0.3059\n",
            "Epoch 11/20, Loss: 0.2846\n",
            "Epoch 12/20, Loss: 0.2883\n",
            "Epoch 13/20, Loss: 0.2844\n",
            "Epoch 14/20, Loss: 0.2868\n",
            "Epoch 15/20, Loss: 0.2852\n",
            "Epoch 16/20, Loss: 0.2832\n",
            "Epoch 17/20, Loss: 0.2892\n",
            "Epoch 18/20, Loss: 0.2839\n",
            "Epoch 19/20, Loss: 0.2906\n",
            "Epoch 20/20, Loss: 0.2850\n"
          ]
        }
      ]
    },
    {
      "cell_type": "markdown",
      "metadata": {
        "id": "kxdm4FTK4K8E"
      },
      "source": [
        "### Avaliação do Modelo"
      ]
    },
    {
      "cell_type": "code",
      "source": [
        "# Avaliar o modelo\n",
        "model.eval()\n",
        "correct = 0\n",
        "total = 0\n",
        "threshold = 0.20 # ← ajuste aqui o limite da classificação binária\n",
        "with torch.no_grad():\n",
        "    for inputs, labels in test_loader:\n",
        "        outputs = model(inputs)\n",
        "        predicted = (outputs > threshold).float()\n",
        "        total += labels.size(0)\n",
        "        correct += (predicted == labels).sum().item()\n",
        "\n",
        "accuracy = correct / total\n",
        "print(f\"Acurácia no conjunto de teste: {accuracy * 100:.2f}%\")"
      ],
      "metadata": {
        "colab": {
          "base_uri": "https://localhost:8080/"
        },
        "id": "op2eNy2ylr7t",
        "outputId": "a152220d-0a5c-4ea4-cb6a-a259255c81af"
      },
      "execution_count": 73,
      "outputs": [
        {
          "output_type": "stream",
          "name": "stdout",
          "text": [
            "Acurácia no conjunto de teste: 87.37%\n"
          ]
        }
      ]
    },
    {
      "cell_type": "code",
      "source": [
        "pd.Series(y_test).value_counts(normalize=True)"
      ],
      "metadata": {
        "colab": {
          "base_uri": "https://localhost:8080/",
          "height": 147
        },
        "id": "X5oQ-kbsSL9S",
        "outputId": "cf66b6f9-f64f-4e4b-8307-1db437385d5c"
      },
      "execution_count": 66,
      "outputs": [
        {
          "output_type": "execute_result",
          "data": {
            "text/plain": [
              "0.0    0.546122\n",
              "1.0    0.453878\n",
              "Name: proportion, dtype: float64"
            ],
            "text/html": [
              "<div>\n",
              "<style scoped>\n",
              "    .dataframe tbody tr th:only-of-type {\n",
              "        vertical-align: middle;\n",
              "    }\n",
              "\n",
              "    .dataframe tbody tr th {\n",
              "        vertical-align: top;\n",
              "    }\n",
              "\n",
              "    .dataframe thead th {\n",
              "        text-align: right;\n",
              "    }\n",
              "</style>\n",
              "<table border=\"1\" class=\"dataframe\">\n",
              "  <thead>\n",
              "    <tr style=\"text-align: right;\">\n",
              "      <th></th>\n",
              "      <th>proportion</th>\n",
              "    </tr>\n",
              "  </thead>\n",
              "  <tbody>\n",
              "    <tr>\n",
              "      <th>0.0</th>\n",
              "      <td>0.546122</td>\n",
              "    </tr>\n",
              "    <tr>\n",
              "      <th>1.0</th>\n",
              "      <td>0.453878</td>\n",
              "    </tr>\n",
              "  </tbody>\n",
              "</table>\n",
              "</div><br><label><b>dtype:</b> float64</label>"
            ]
          },
          "metadata": {},
          "execution_count": 66
        }
      ]
    },
    {
      "cell_type": "code",
      "source": [
        "y_pred = (model(X_test_tensor) > threshold).float()\n",
        "print(classification_report(y_test_tensor, y_pred))"
      ],
      "metadata": {
        "colab": {
          "base_uri": "https://localhost:8080/"
        },
        "id": "qL4LfNRp9Eku",
        "outputId": "b177bd0b-4de3-4d17-a83f-ae98e8f1a340"
      },
      "execution_count": 74,
      "outputs": [
        {
          "output_type": "stream",
          "name": "stdout",
          "text": [
            "              precision    recall  f1-score   support\n",
            "\n",
            "         0.0       0.84      0.95      0.89      1042\n",
            "         1.0       0.93      0.79      0.85       866\n",
            "\n",
            "    accuracy                           0.87      1908\n",
            "   macro avg       0.88      0.87      0.87      1908\n",
            "weighted avg       0.88      0.87      0.87      1908\n",
            "\n"
          ]
        }
      ]
    },
    {
      "cell_type": "markdown",
      "source": [
        "✅ Pontos positivos\n",
        "Precision (ataques): 0.93 → Quando o modelo diz que é ataque, ele está certo 93% das vezes.\n",
        "\n",
        "Recall (normais): 0.95 → O modelo reconhece corretamente 95% dos casos normais.\n",
        "\n",
        "F1-score geral: 0.87 → Ótimo equilíbrio entre precisão e recall.\n",
        "\n",
        "Acurácia geral: 87% → Alto valor para um problema de detecção de intrusão, especialmente em dados desbalanceados.\n",
        "\n",
        "⚠️ Ponto de atenção\n",
        "Recall da Classe 1 (ataque) = 0.79:\n",
        "\n",
        "Isso significa que o modelo ainda deixa passar 21% dos ataques.\n",
        "\n",
        "Se o objetivo é maximizar a detecção de ataques, esse recall poderia ser maior, mesmo que à custa de mais falsos positivos (aceitável em segurança)."
      ],
      "metadata": {
        "id": "TdLqTXmuAYbY"
      }
    },
    {
      "cell_type": "markdown",
      "source": [
        "### Curva ROC"
      ],
      "metadata": {
        "id": "fgwt-DkYq2hN"
      }
    },
    {
      "cell_type": "code",
      "source": [
        "# Gerando CURVA ROC\n",
        "probs = []\n",
        "labels = []\n",
        "\n",
        "model.eval()\n",
        "with torch.no_grad():\n",
        "    for inputs, label in test_loader:\n",
        "        output = model(inputs)\n",
        "        probs.extend(output.cpu().numpy())\n",
        "        labels.extend(label.cpu().numpy())\n",
        "\n",
        "fpr, tpr, _ = roc_curve(labels, probs)\n",
        "roc_auc = auc(fpr, tpr)\n",
        "\n",
        "plt.figure()\n",
        "plt.plot(fpr, tpr, label=f'ROC curve (area = {roc_auc:.2f})')\n",
        "plt.plot([0, 1], [0, 1], 'k--')\n",
        "plt.xlabel('False Positive Rate')\n",
        "plt.ylabel('True Positive Rate')\n",
        "plt.title('Receiver Operating Characteristic')\n",
        "plt.legend(loc='lower right')\n",
        "plt.show()"
      ],
      "metadata": {
        "colab": {
          "base_uri": "https://localhost:8080/",
          "height": 472
        },
        "id": "H7vv2cwWIO75",
        "outputId": "89140462-75c7-4eac-8417-b88e52e501f4"
      },
      "execution_count": 75,
      "outputs": [
        {
          "output_type": "display_data",
          "data": {
            "text/plain": [
              "<Figure size 640x480 with 1 Axes>"
            ],
            "image/png": "[encoded data removed]"
          },
          "metadata": {}
        }
      ]
    },
    {
      "cell_type": "markdown",
      "source": [
        "interpretando:\n",
        "AUC (área sob a curva): no seu gráfico, AUC = 0.89, o que é muito bom.\n",
        "\n",
        "0.5 = modelo aleatório (linha pontilhada)\n",
        "\n",
        "1.0 = classificador perfeito\n",
        "\n",
        "Acima de 0.85 já é considerado um ótimo modelo para muitos contextos\n",
        "\n",
        "Curva próxima do canto superior esquerdo indica alta sensibilidade (recall) e baixo falso positivo → excelente!\n",
        "\n",
        "✅ Conclusão:\n",
        "modelo está muito bem com AUC = 0.89.\n",
        "\n",
        "O gráfico mostra que há espaço para aumentar recall da classe 1 com pequeno custo de FPR.\n",
        "\n",
        "Você pode usar o gráfico e o código acima para ajustar o threshold ideal, se desejar melhorar ainda mais."
      ],
      "metadata": {
        "id": "yAxy9fHt_p8c"
      }
    },
    {
      "cell_type": "markdown",
      "source": [
        "### Matriz Confusao"
      ],
      "metadata": {
        "id": "8unrocx2rEVv"
      }
    },
    {
      "cell_type": "code",
      "source": [
        "# Matriz de Confusao\n",
        "from sklearn.metrics import confusion_matrix, ConfusionMatrixDisplay\n",
        "\n",
        "# Garantir que estamos no modo de avaliação\n",
        "model.eval()\n",
        "\n",
        "# Listas para armazenar rótulos reais e previsões\n",
        "all_preds = []\n",
        "all_labels = []\n",
        "\n",
        "with torch.no_grad():\n",
        "    for inputs, labels in test_loader:\n",
        "        outputs = model(inputs)\n",
        "        predicted = (outputs > threshold).float()  # Usa threshold da variavel iniciada\n",
        "        all_preds.extend(predicted.numpy())\n",
        "        all_labels.extend(labels.numpy())\n",
        "\n",
        "# Converter para arrays\n",
        "all_preds = np.array(all_preds).flatten()\n",
        "all_labels = np.array(all_labels).flatten()\n",
        "\n",
        "# Gerar matriz de confusão\n",
        "cm = confusion_matrix(all_labels, all_preds)\n",
        "disp = ConfusionMatrixDisplay(confusion_matrix=cm, display_labels=[\"Normal (0)\", \"Ataque (1)\"])\n",
        "disp.plot(cmap=\"Blues\")\n",
        "plt.title(\"Matriz de Confusão\")\n",
        "plt.show()"
      ],
      "metadata": {
        "colab": {
          "base_uri": "https://localhost:8080/",
          "height": 472
        },
        "collapsed": true,
        "id": "3UMwYtLCrHE5",
        "outputId": "1d7dc880-0f59-4b45-b09a-afb62085003f"
      },
      "execution_count": 76,
      "outputs": [
        {
          "output_type": "display_data",
          "data": {
            "text/plain": [
              "<Figure size 640x480 with 2 Axes>"
            ],
            "image/png": "[encoded data removed]"
          },
          "metadata": {}
        }
      ]
    },
    {
      "cell_type": "markdown",
      "source": [
        "📌 Interpretação e Observações:\n",
        "✅ O modelo é forte em identificar \"normal\" (classe 0), com apenas 55 falsos positivos.\n",
        "\n",
        "⚠️ Mas há 186 falsos negativos → ataques que o modelo não conseguiu identificar.\n",
        "\n",
        "Isso pode ser crítico dependendo do domínio da aplicação, já que ataques não detectados são piores que falsos alarmes."
      ],
      "metadata": {
        "id": "1TDDn8b-AtiF"
      }
    },
    {
      "cell_type": "code",
      "source": [
        "# from sklearn.metrics import f1_score\n",
        "\n",
        "# thresholds = np.arange(0.3, 0.6, 0.01)\n",
        "# best_f1 = 0\n",
        "# best_threshold = 0\n",
        "\n",
        "# for t in thresholds:\n",
        "#     preds = (probs > t).astype(float)\n",
        "#     f1 = f1_score(y_test_tensor, preds)\n",
        "#     if f1 > best_f1:\n",
        "#         best_f1 = f1\n",
        "#         best_threshold = t\n",
        "\n",
        "# print(f\"Melhor threshold: {best_threshold:.2f} com F1-score: {best_f1:.4f}\")"
      ],
      "metadata": {
        "colab": {
          "base_uri": "https://localhost:8080/"
        },
        "id": "hWC7OAGPMmF3",
        "outputId": "572a4b52-ee69-4fee-f0ed-75fda694b03a"
      },
      "execution_count": 77,
      "outputs": [
        {
          "output_type": "stream",
          "name": "stdout",
          "text": [
            "Melhor threshold: 0.38 com F1-score: 0.8619\n"
          ]
        }
      ]
    },
    {
      "cell_type": "markdown",
      "source": [
        "### Identificando Melhor Threshold no conjunto de TESTES"
      ],
      "metadata": {
        "id": "eN7MZpMx3gFN"
      }
    },
    {
      "cell_type": "code",
      "source": [
        "import numpy as np\n",
        "from sklearn.metrics import precision_score, recall_score, f1_score\n",
        "\n",
        "# 1. Obter scores do modelo no conjunto de teste (probabilidades)\n",
        "model.eval()\n",
        "all_labels = []\n",
        "all_probs = []\n",
        "\n",
        "with torch.no_grad():\n",
        "    for inputs, labels in test_loader:\n",
        "        outputs = model(inputs)\n",
        "        all_probs.extend(outputs.squeeze().tolist())\n",
        "        all_labels.extend(labels.squeeze().tolist())\n",
        "\n",
        "all_probs = np.array(all_probs)\n",
        "all_labels = np.array(all_labels)\n",
        "\n",
        "# 2. Testar thresholds de 0.1 a 0.9\n",
        "thresholds = np.arange(0.1, 1.0, 0.05)\n",
        "results = []\n",
        "\n",
        "print(f\"{'Threshold':<10} {'Precision':<10} {'Recall':<10} {'F1-Score':<10}\")\n",
        "for thresh in thresholds:\n",
        "    preds = (all_probs >= thresh).astype(float)\n",
        "    precision = precision_score(all_labels, preds)\n",
        "    recall = recall_score(all_labels, preds)\n",
        "    f1 = f1_score(all_labels, preds)\n",
        "    results.append((thresh, precision, recall, f1))\n",
        "    print(f\"{thresh:<10.2f} {precision:<10.2f} {recall:<10.2f} {f1:<10.2f}\")"
      ],
      "metadata": {
        "colab": {
          "base_uri": "https://localhost:8080/"
        },
        "id": "nE_gAhcbUA6q",
        "outputId": "9484b54e-262c-4b2e-b75d-47cf8a23fdbb"
      },
      "execution_count": 78,
      "outputs": [
        {
          "output_type": "stream",
          "name": "stdout",
          "text": [
            "Threshold  Precision  Recall     F1-Score  \n",
            "0.10       0.47       0.98       0.63      \n",
            "0.15       0.50       0.96       0.66      \n",
            "0.20       0.93       0.79       0.85      \n",
            "0.25       0.95       0.78       0.85      \n",
            "0.30       0.96       0.77       0.86      \n",
            "0.35       0.97       0.77       0.86      \n",
            "0.40       0.98       0.77       0.86      \n",
            "0.45       0.98       0.77       0.86      \n",
            "0.50       0.98       0.77       0.86      \n",
            "0.55       0.99       0.76       0.86      \n",
            "0.60       0.99       0.76       0.86      \n",
            "0.65       0.99       0.76       0.86      \n",
            "0.70       0.99       0.76       0.86      \n",
            "0.75       0.99       0.76       0.86      \n",
            "0.80       0.99       0.76       0.86      \n",
            "0.85       0.99       0.76       0.86      \n",
            "0.90       1.00       0.75       0.86      \n",
            "0.95       1.00       0.75       0.86      \n"
          ]
        }
      ]
    },
    {
      "cell_type": "markdown",
      "source": [
        "🎯 Tendo como foco a segurança (detectar o máximo de ataques):\n",
        "O threshold ideal parece estar entre 0.20 e 0.25:\n",
        "\n",
        "Recall = 0.78–0.79 → Alta detecção.\n",
        "\n",
        "Precision = 0.93–0.95 → Poucos falsos positivos.\n",
        "\n",
        "F1 = 0.85 → Forte equilíbrio."
      ],
      "metadata": {
        "id": "4owaixwyBq_a"
      }
    },
    {
      "cell_type": "markdown",
      "source": [
        "# RESUMO FINAL"
      ],
      "metadata": {
        "id": "n1-8ItcY1JTF"
      }
    },
    {
      "cell_type": "markdown",
      "source": [
        " O processo aplicado foi de regressao logistica com classifica binaria, a principio quando apliquei os dados normalizados com uma rede simples, os valores de LOSS foram extremamente altos na faixa de 28.7365 com 60 épocas, entao na tentativa de melhorar, parti para uma nova arquitetura de rede mais densa, alterando minha classe de rede neural com as seguintes camadas, tendo como fato para um problema de base tabular no meu dataset.\n",
        "\n",
        "Entrada:     128 neurônios  (input_dim)\n",
        "Oculta 1:     64 neurônios  (fc1)\n",
        "Oculta 2:     32 neurônios  (fc2)\n",
        "Saída:         1 neurônio   (output com sigmoid)\n",
        "\n",
        "com essas camadas foi possivel checar a um LOSS de 0.28 e ACURACIA de 87.37%, tendo que realizar ajustes finos no LEARNING RATE, THRESHOLD e NUM_EPOCHS. Enfim, mesmo assim o numero de acertos para ataque ainda ficou passivo para se melhorar ainda mais com Recall de 79%, isso fico bem visivel no grafico de matriz de confusao gerado no trabalho.\n",
        "\n",
        "Enfim, esse trabalho ainda pode ser melhorado para se chegar em percentual mais alto de acertos para ataque, entao fica para os proximos desafios, estuda uma forma de refinar ainda mais essa rede."
      ],
      "metadata": {
        "id": "yjJiD_Mk1NoF"
      }
    },
    {
      "cell_type": "code",
      "source": [],
      "metadata": {
        "id": "u47R2Pg79-J1"
      },
      "execution_count": null,
      "outputs": []
    }
  ],
  "metadata": {
    "accelerator": "GPU",
    "colab": {
      "machine_shape": "hm",
      "provenance": [],
      "toc_visible": true
    },
    "kernelspec": {
      "display_name": "Python 3.10.2 64-bit",
      "language": "python",
      "name": "python3"
    },
    "language_info": {
      "name": "python",
      "version": "3.10.2"
    },
    "vscode": {
      "interpreter": {
        "hash": "5fe3e6f0cdaab8afdc61c52912fda83f7c0a71baaea1897dd7498e2df01e69ec"
      }
    }
  },
  "nbformat": 4,
  "nbformat_minor": 0
}