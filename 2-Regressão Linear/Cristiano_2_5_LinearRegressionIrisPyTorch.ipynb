{
  "cells": [
    {
      "cell_type": "markdown",
      "metadata": {
        "id": "4PHBzchPHif1"
      },
      "source": [
        "# Regressão Linear com PyTorch"
      ]
    },
    {
      "cell_type": "markdown",
      "metadata": {
        "id": "GujG54RVHif3"
      },
      "source": [
        "## Objetivo"
      ]
    },
    {
      "cell_type": "markdown",
      "metadata": {
        "id": "GGxcJJDOHif4"
      },
      "source": [
        "Este exemplo utiliza regressão linear para estimar o comprimento das sépalas da íris a partir do seu comprimento das pétalas.\n",
        "Utiliza-se\n",
        "- o cálculo do gradiente automático do PyTorch, porém\n",
        "- a função de perda e\n",
        "- atualização dos parâmetros é feita de forma explícita.\n",
        "- A rede é criada com uma camada nn.Linear()"
      ]
    },
    {
      "cell_type": "markdown",
      "metadata": {
        "id": "6Q1aL4eOHif5"
      },
      "source": [
        "![alt text](https://raw.githubusercontent.com/vcasadei/images/master/RegressaoLinear_Otimizacao.png)"
      ]
    },
    {
      "cell_type": "markdown",
      "metadata": {
        "id": "D-OH95H9Hif6"
      },
      "source": [
        "## Importação dos pacotes"
      ]
    },
    {
      "cell_type": "code",
      "execution_count": null,
      "metadata": {
        "ExecuteTime": {
          "end_time": "2017-11-23T23:50:37.321471Z",
          "start_time": "2017-11-23T23:50:35.620908Z"
        },
        "colab": {
          "base_uri": "https://localhost:8080/"
        },
        "id": "Rwd6UgfSHif8",
        "outputId": "24132729-a326-4882-c0db-94f3b43b395b"
      },
      "outputs": [
        {
          "output_type": "execute_result",
          "data": {
            "text/plain": [
              "<torch._C.Generator at 0x7cf1fdb80ff0>"
            ]
          },
          "metadata": {},
          "execution_count": 23
        }
      ],
      "source": [
        "%matplotlib inline\n",
        "import matplotlib.pyplot as plt\n",
        "\n",
        "import numpy as np\n",
        "from sklearn.datasets import load_iris\n",
        "\n",
        "import torch\n",
        "from torch import nn, optim\n",
        "from torch.autograd import Variable\n",
        "\n",
        "torch.manual_seed(1234)"
      ]
    },
    {
      "cell_type": "markdown",
      "metadata": {
        "id": "tM6s6TDZHigH"
      },
      "source": [
        "## Leitura dos dados"
      ]
    },
    {
      "cell_type": "code",
      "execution_count": null,
      "metadata": {
        "ExecuteTime": {
          "end_time": "2017-11-23T23:50:37.352459Z",
          "start_time": "2017-11-23T23:50:37.324344Z"
        },
        "colab": {
          "base_uri": "https://localhost:8080/"
        },
        "id": "e4YFUL0MHigI",
        "outputId": "d15b2799-4efa-43f3-8ce5-d393e461453e"
      },
      "outputs": [
        {
          "output_type": "stream",
          "name": "stdout",
          "text": [
            "x_train.shape: (50, 1) float32\n",
            "y_train.shape: (50, 1) float32\n",
            "x_train[:5]:\n",
            " [[7. ]\n",
            " [6.4]\n",
            " [6.9]\n",
            " [5.5]\n",
            " [6.5]]\n",
            "y_train[:5]:\n",
            " [[4.7]\n",
            " [4.5]\n",
            " [4.9]\n",
            " [4. ]\n",
            " [4.6]]\n"
          ]
        }
      ],
      "source": [
        "iris = load_iris()\n",
        "data = iris.data[iris.target==1,::2]  # comprimento das sépalas e pétalas, indices 0 e 2\n",
        "\n",
        "x_train = data[:,0:1].astype(np.float32)\n",
        "y_train = data[:,1:2].astype(np.float32)\n",
        "\n",
        "n_samples = x_train.shape[0]\n",
        "print('x_train.shape:',x_train.shape, x_train.dtype)\n",
        "print('y_train.shape:',y_train.shape, y_train.dtype)\n",
        "\n",
        "print('x_train[:5]:\\n', x_train[:5])\n",
        "print('y_train[:5]:\\n', y_train[:5])"
      ]
    },
    {
      "cell_type": "markdown",
      "metadata": {
        "id": "KiBZegbaHigL"
      },
      "source": [
        "### Normalização dos dados"
      ]
    },
    {
      "cell_type": "code",
      "execution_count": null,
      "metadata": {
        "ExecuteTime": {
          "end_time": "2017-11-23T23:50:37.369738Z",
          "start_time": "2017-11-23T23:50:37.355827Z"
        },
        "id": "LXJmFubQHigN"
      },
      "outputs": [],
      "source": [
        "x_train -= x_train.min()\n",
        "x_train /= x_train.max()\n",
        "y_train -= y_train.min()\n",
        "y_train /= y_train.max()\n"
      ]
    },
    {
      "cell_type": "code",
      "execution_count": null,
      "metadata": {
        "colab": {
          "base_uri": "https://localhost:8080/"
        },
        "id": "nYq87NbdHxZF",
        "outputId": "caff07a4-54b4-4fc5-b11b-088d07af32b7"
      },
      "outputs": [
        {
          "output_type": "stream",
          "name": "stdout",
          "text": [
            "x_train[:5]:\n",
            " [[1.        ]\n",
            " [0.71428573]\n",
            " [0.952381  ]\n",
            " [0.28571424]\n",
            " [0.7619048 ]]\n",
            "y_train[:5]:\n",
            " [[0.80952376]\n",
            " [0.71428573]\n",
            " [0.90476197]\n",
            " [0.4761905 ]\n",
            " [0.7619048 ]]\n"
          ]
        }
      ],
      "source": [
        "print('x_train[:5]:\\n', x_train[:5])\n",
        "print('y_train[:5]:\\n', y_train[:5])"
      ]
    },
    {
      "cell_type": "code",
      "execution_count": null,
      "metadata": {
        "ExecuteTime": {
          "end_time": "2017-11-23T23:50:37.381683Z",
          "start_time": "2017-11-23T23:50:37.375245Z"
        },
        "id": "epxtUveAHigP"
      },
      "outputs": [],
      "source": [
        "x_train_bias = np.hstack([np.ones(shape=(n_samples,1)), x_train])"
      ]
    },
    {
      "cell_type": "code",
      "execution_count": null,
      "metadata": {
        "colab": {
          "base_uri": "https://localhost:8080/"
        },
        "id": "AgObmWFjH5x7",
        "outputId": "72c4f77a-0817-425d-d8f3-19c98b150c1d"
      },
      "outputs": [
        {
          "output_type": "execute_result",
          "data": {
            "text/plain": [
              "array([[1.        , 1.        ],\n",
              "       [1.        , 0.71428573],\n",
              "       [1.        , 0.95238101],\n",
              "       [1.        , 0.28571424],\n",
              "       [1.        , 0.76190478],\n",
              "       [1.        , 0.38095227],\n",
              "       [1.        , 0.66666675],\n",
              "       [1.        , 0.        ],\n",
              "       [1.        , 0.80952376],\n",
              "       [1.        , 0.14285702],\n",
              "       [1.        , 0.047619  ],\n",
              "       [1.        , 0.47619051],\n",
              "       [1.        , 0.52380949],\n",
              "       [1.        , 0.57142848],\n",
              "       [1.        , 0.33333325],\n",
              "       [1.        , 0.85714275],\n",
              "       [1.        , 0.33333325],\n",
              "       [1.        , 0.42857149],\n",
              "       [1.        , 0.61904752],\n",
              "       [1.        , 0.33333325],\n",
              "       [1.        , 0.47619051],\n",
              "       [1.        , 0.57142848],\n",
              "       [1.        , 0.66666675],\n",
              "       [1.        , 0.57142848],\n",
              "       [1.        , 0.71428573],\n",
              "       [1.        , 0.80952376],\n",
              "       [1.        , 0.90476197],\n",
              "       [1.        , 0.85714275],\n",
              "       [1.        , 0.52380949],\n",
              "       [1.        , 0.38095227],\n",
              "       [1.        , 0.28571424],\n",
              "       [1.        , 0.28571424],\n",
              "       [1.        , 0.42857149],\n",
              "       [1.        , 0.52380949],\n",
              "       [1.        , 0.23809525],\n",
              "       [1.        , 0.52380949],\n",
              "       [1.        , 0.85714275],\n",
              "       [1.        , 0.66666675],\n",
              "       [1.        , 0.33333325],\n",
              "       [1.        , 0.28571424],\n",
              "       [1.        , 0.28571424],\n",
              "       [1.        , 0.57142848],\n",
              "       [1.        , 0.42857149],\n",
              "       [1.        , 0.047619  ],\n",
              "       [1.        , 0.33333325],\n",
              "       [1.        , 0.38095227],\n",
              "       [1.        , 0.38095227],\n",
              "       [1.        , 0.61904752],\n",
              "       [1.        , 0.09523801],\n",
              "       [1.        , 0.38095227]])"
            ]
          },
          "metadata": {},
          "execution_count": 28
        }
      ],
      "source": [
        "x_train_bias"
      ]
    },
    {
      "cell_type": "code",
      "execution_count": null,
      "metadata": {
        "colab": {
          "base_uri": "https://localhost:8080/"
        },
        "id": "7seVsEbJIHb3",
        "outputId": "cc4c98ab-4ef7-485d-9b7e-72d366eb91af"
      },
      "outputs": [
        {
          "output_type": "stream",
          "name": "stdout",
          "text": [
            "x_train_bias.shape: (50, 2) float64\n"
          ]
        }
      ],
      "source": [
        "print('x_train_bias.shape:',x_train_bias.shape, x_train_bias.dtype)"
      ]
    },
    {
      "cell_type": "code",
      "execution_count": null,
      "metadata": {
        "ExecuteTime": {
          "end_time": "2017-11-23T23:50:37.396626Z",
          "start_time": "2017-11-23T23:50:37.389139Z"
        },
        "colab": {
          "base_uri": "https://localhost:8080/"
        },
        "id": "3Enuu3LxHigR",
        "outputId": "e70b5d02-1e5e-4c57-e242-b2d73143eb9f"
      },
      "outputs": [
        {
          "output_type": "stream",
          "name": "stdout",
          "text": [
            "tensor([[0.8095],\n",
            "        [0.7143],\n",
            "        [0.9048],\n",
            "        [0.4762],\n",
            "        [0.7619],\n",
            "        [0.7143],\n",
            "        [0.8095],\n",
            "        [0.1429],\n",
            "        [0.7619],\n",
            "        [0.4286],\n",
            "        [0.2381],\n",
            "        [0.5714],\n",
            "        [0.4762],\n",
            "        [0.8095],\n",
            "        [0.2857],\n",
            "        [0.6667],\n",
            "        [0.7143],\n",
            "        [0.5238],\n",
            "        [0.7143],\n",
            "        [0.4286],\n",
            "        [0.8571],\n",
            "        [0.4762],\n",
            "        [0.9048],\n",
            "        [0.8095],\n",
            "        [0.6190],\n",
            "        [0.6667],\n",
            "        [0.8571],\n",
            "        [0.9524],\n",
            "        [0.7143],\n",
            "        [0.2381],\n",
            "        [0.3810],\n",
            "        [0.3333],\n",
            "        [0.4286],\n",
            "        [1.0000],\n",
            "        [0.7143],\n",
            "        [0.7143],\n",
            "        [0.8095],\n",
            "        [0.6667],\n",
            "        [0.5238],\n",
            "        [0.4762],\n",
            "        [0.6667],\n",
            "        [0.7619],\n",
            "        [0.4762],\n",
            "        [0.1429],\n",
            "        [0.5714],\n",
            "        [0.5714],\n",
            "        [0.5714],\n",
            "        [0.6190],\n",
            "        [0.0000],\n",
            "        [0.5238]])\n"
          ]
        }
      ],
      "source": [
        "x_train_bias = torch.FloatTensor(x_train_bias)\n",
        "y_train      = torch.FloatTensor(y_train)\n",
        "print(y_train)"
      ]
    },
    {
      "cell_type": "markdown",
      "metadata": {
        "id": "35kUVzdrHigU"
      },
      "source": [
        "## Model"
      ]
    },
    {
      "cell_type": "markdown",
      "metadata": {
        "id": "8nv8uX7uHigU"
      },
      "source": [
        "![alt text](https://raw.githubusercontent.com/vcasadei/images/master/RegressaoLinearNeuronio.png)"
      ]
    },
    {
      "cell_type": "code",
      "execution_count": null,
      "metadata": {
        "ExecuteTime": {
          "end_time": "2017-11-23T23:50:37.403510Z",
          "start_time": "2017-11-23T23:50:37.399234Z"
        },
        "id": "Ngq9EEi8HigV"
      },
      "outputs": [],
      "source": [
        "#Inicialização usando toch.nn.Linear\n",
        "\n",
        "model = torch.nn.Linear(in_features=2, out_features=1, bias=False)"
      ]
    },
    {
      "cell_type": "markdown",
      "metadata": {
        "id": "fz0E6uU2HigY"
      },
      "source": [
        "### Verificando a inicialização dos parâmetros"
      ]
    },
    {
      "cell_type": "code",
      "execution_count": null,
      "metadata": {
        "ExecuteTime": {
          "end_time": "2017-11-23T23:50:37.418969Z",
          "start_time": "2017-11-23T23:50:37.409713Z"
        },
        "colab": {
          "base_uri": "https://localhost:8080/"
        },
        "id": "aKnVpTrnHigZ",
        "outputId": "54081bbf-1ce3-41f8-dd91-eccb45f3abb2"
      },
      "outputs": [
        {
          "output_type": "stream",
          "name": "stderr",
          "text": [
            "<ipython-input-32-4472ed23bcd1>:2: FutureWarning: `nn.init.uniform` is now deprecated in favor of `nn.init.uniform_`.\n",
            "  torch.nn.init.uniform(model.weight.data, -0.1, 0.1)\n"
          ]
        },
        {
          "output_type": "execute_result",
          "data": {
            "text/plain": [
              "Parameter containing:\n",
              "tensor([[-0.0480, -0.0267]], requires_grad=True)"
            ]
          },
          "metadata": {},
          "execution_count": 32
        }
      ],
      "source": [
        "model.weight.data = torch.zeros(1,2)\n",
        "torch.nn.init.uniform(model.weight.data, -0.1, 0.1)\n",
        "model.weight"
      ]
    },
    {
      "cell_type": "markdown",
      "metadata": {
        "id": "mq22EwyFHigc"
      },
      "source": [
        "### Testando o predict da rede"
      ]
    },
    {
      "cell_type": "code",
      "execution_count": null,
      "metadata": {
        "ExecuteTime": {
          "end_time": "2017-11-23T23:50:37.497945Z",
          "start_time": "2017-11-23T23:50:37.422209Z"
        },
        "colab": {
          "base_uri": "https://localhost:8080/"
        },
        "id": "dyCO8PL_Hige",
        "outputId": "f422366e-26b0-4172-941a-aaef668a4d08"
      },
      "outputs": [
        {
          "output_type": "execute_result",
          "data": {
            "text/plain": [
              "tensor([[1., 1.],\n",
              "        [1., 1.],\n",
              "        [1., 1.],\n",
              "        [1., 1.],\n",
              "        [1., 1.]])"
            ]
          },
          "metadata": {},
          "execution_count": 33
        }
      ],
      "source": [
        "xx = torch.ones((5,2))\n",
        "xx"
      ]
    },
    {
      "cell_type": "code",
      "execution_count": null,
      "metadata": {
        "colab": {
          "base_uri": "https://localhost:8080/"
        },
        "id": "kpxZmYMsJF7F",
        "outputId": "14ad6b5e-b802-460a-8623-a0dbe2362ab2"
      },
      "outputs": [
        {
          "output_type": "execute_result",
          "data": {
            "text/plain": [
              "tensor([[-0.0747],\n",
              "        [-0.0747],\n",
              "        [-0.0747],\n",
              "        [-0.0747],\n",
              "        [-0.0747]], grad_fn=<MmBackward0>)"
            ]
          },
          "metadata": {},
          "execution_count": 34
        }
      ],
      "source": [
        "model(Variable(xx))"
      ]
    },
    {
      "cell_type": "markdown",
      "metadata": {
        "id": "llozQQShHigg"
      },
      "source": [
        "## Treinamento"
      ]
    },
    {
      "cell_type": "code",
      "execution_count": null,
      "metadata": {
        "ExecuteTime": {
          "end_time": "2017-11-23T23:50:37.534983Z",
          "start_time": "2017-11-23T23:50:37.501215Z"
        },
        "colab": {
          "base_uri": "https://localhost:8080/"
        },
        "id": "GEY2W_eaHigh",
        "outputId": "c6b82e4d-ecd3-48fc-f306-0adaed6ac5c1",
        "scrolled": false
      },
      "outputs": [
        {
          "output_type": "stream",
          "name": "stdout",
          "text": [
            "Epoch[20/100], loss: 0.022983\n",
            "Epoch[40/100], loss: 0.021432\n",
            "Epoch[60/100], loss: 0.021207\n",
            "Epoch[80/100], loss: 0.021175\n",
            "Epoch[100/100], loss: 0.021170\n"
          ]
        }
      ],
      "source": [
        "num_epochs = 100\n",
        "learning_rate = 0.5\n",
        "for epoch in range(num_epochs):\n",
        "    inputs = Variable(x_train_bias)\n",
        "    target = Variable(y_train)\n",
        "\n",
        "    # forward - predict\n",
        "    y_pred = model(x_train_bias)\n",
        "\n",
        "    #loss cálculo da função de perda\n",
        "    loss = torch.mean((y_pred - y_train)**2)\n",
        "\n",
        "    # backward propagation - cálculo gradient\n",
        "    loss.backward()\n",
        "\n",
        "    # gradiente descendente\n",
        "    model.weight.data = model.weight.data - learning_rate * model.weight.grad.data\n",
        "\n",
        "    # zeragem parâmetros próximo cálculo do gradiente\n",
        "    model.weight.grad.data.zero_()\n",
        "\n",
        "    # verbose\n",
        "    if (epoch+1) % 20 == 0:\n",
        "        print('Epoch[{}/{}], loss: {:.6f}'\n",
        "              .format(epoch+1, num_epochs, loss.data))"
      ]
    },
    {
      "cell_type": "markdown",
      "metadata": {
        "heading_collapsed": true,
        "id": "OyUB8WAmHigk"
      },
      "source": [
        "## Avaliação"
      ]
    },
    {
      "cell_type": "code",
      "execution_count": null,
      "metadata": {
        "ExecuteTime": {
          "end_time": "2017-11-23T23:50:37.785652Z",
          "start_time": "2017-11-23T23:50:37.538639Z"
        },
        "hidden": true,
        "id": "9ire-2nCHigl",
        "outputId": "68255874-d145-480b-a8bb-a6926e7e180c",
        "colab": {
          "base_uri": "https://localhost:8080/",
          "height": 430
        }
      },
      "outputs": [
        {
          "output_type": "display_data",
          "data": {
            "text/plain": [
              "<Figure size 640x480 with 1 Axes>"
            ],
            "image/png": "[encoded data removed]"
          },
          "metadata": {}
        }
      ],
      "source": [
        "y_pred = model(Variable(x_train_bias))\n",
        "plt.plot(x_train, y_train.numpy(), 'ro', label='Original data')\n",
        "plt.plot(x_train, y_pred.data.numpy(), 'kx-', label='Fitting Line')\n",
        "plt.show()"
      ]
    },
    {
      "cell_type": "markdown",
      "metadata": {
        "hidden": true,
        "id": "-jQncN7PHigp"
      },
      "source": [
        "### Acessando os parâmetros"
      ]
    },
    {
      "cell_type": "code",
      "execution_count": null,
      "metadata": {
        "ExecuteTime": {
          "end_time": "2017-11-23T23:50:37.797767Z",
          "start_time": "2017-11-23T23:50:37.787839Z"
        },
        "hidden": true,
        "id": "byxPWYlFHigq",
        "outputId": "99538b23-b69a-42b8-d2ed-d0f8ffd22307",
        "colab": {
          "base_uri": "https://localhost:8080/"
        }
      },
      "outputs": [
        {
          "output_type": "execute_result",
          "data": {
            "text/plain": [
              "OrderedDict([('weight', tensor([[0.2631, 0.6830]]))])"
            ]
          },
          "metadata": {},
          "execution_count": 37
        }
      ],
      "source": [
        "w_dic = model.state_dict()\n",
        "w_dic"
      ]
    },
    {
      "cell_type": "markdown",
      "metadata": {
        "hidden": true,
        "id": "mGK_1QtNHigw"
      },
      "source": [
        "### Parâmetros ótimos, solução analítica"
      ]
    },
    {
      "cell_type": "code",
      "execution_count": null,
      "metadata": {
        "ExecuteTime": {
          "end_time": "2017-11-23T23:50:37.809980Z",
          "start_time": "2017-11-23T23:50:37.800833Z"
        },
        "hidden": true,
        "id": "5jrFm0pXHigx",
        "outputId": "bddf29f4-2a2e-45cd-914d-fda2cdd52aac",
        "colab": {
          "base_uri": "https://localhost:8080/"
        }
      },
      "outputs": [
        {
          "output_type": "stream",
          "name": "stdout",
          "text": [
            "tensor([[0.2613, 0.6865]])\n"
          ]
        }
      ],
      "source": [
        "x_bias = x_train_bias\n",
        "y = y_train\n",
        "x_bias_t = torch.t(x_bias)\n",
        "w_opt = (torch.inverse(x_bias_t.mm(x_bias)).mm(x_bias_t)).mm(y)\n",
        "print(torch.t(w_opt))"
      ]
    },
    {
      "cell_type": "markdown",
      "metadata": {
        "collapsed": true,
        "heading_collapsed": true,
        "id": "AmTLHbBcHig3"
      },
      "source": [
        "# Exercícios"
      ]
    },
    {
      "cell_type": "markdown",
      "metadata": {
        "hidden": true,
        "id": "0826M7y0Hig5"
      },
      "source": [
        "- 1) Por que no final da varredura do laço de treinamento, a perda é impressa utilizando\n",
        "   `loss.data`? Por que precisa do `data`?\n",
        "\n",
        "R - por que é do TIPO variable   \n",
        "   "
      ]
    },
    {
      "cell_type": "markdown",
      "metadata": {
        "hidden": true,
        "id": "cUhiv-56Hig5"
      },
      "source": [
        "- 2) Calcule e imprima o valor da perda (MSE) fazendo o predict da rede com os pesos já\n",
        "   treinados."
      ]
    },
    {
      "cell_type": "markdown",
      "metadata": {
        "hidden": true,
        "id": "pwrS4OGkHig7"
      },
      "source": [
        "- 3) Crie duas listas `w0_list` e `w1_list` para guardar a evolução dos valores dos\n",
        "   parâmetros durante o laço de treinamento.\n",
        "   Modifique o exemplo do gráfico tipo **scatter plot** para visualizar a variação\n",
        "   dos parâmetros do modelo duas dimensões.\n",
        "   Marque neste gráfico o valor ótimo do parâmetro dado pela solução\n",
        "   analítica."
      ]
    },
    {
      "cell_type": "code",
      "source": [
        "# Exercicio 2\n",
        "\n",
        "# # predict (forward)\n",
        "# w = Variable(torch.ones(1),requires_grad=True)\n",
        "# y_pred = x * w\n",
        "\n",
        "# # Calculo da perda\n",
        "# e = y_pred - y\n",
        "# e2 = e.pow(2)\n",
        "# J = e2.sum()\n",
        "\n",
        "# print(f\"J antigo : {J}\")\n",
        "# J.backward()\n",
        "\n",
        "\n",
        "model = torch.nn.Linear(in_features=2, out_features=1, bias=False)\n",
        "num_epochs = 100\n",
        "learning_rate = 0.5\n",
        "\n",
        "for epoch in range(num_epochs):\n",
        "    inputs = Variable(x_train_bias)\n",
        "    target = Variable(y_train)\n",
        "\n",
        "    # forward - predict\n",
        "    y_pred = model(x_train_bias)\n",
        "\n",
        "    #loss cálculo da função de perda\n",
        "    loss = torch.mean((y_pred - y_train)**2)\n",
        "\n",
        "    # backward propagation - cálculo gradient\n",
        "    loss.backward()\n",
        "\n",
        "    # gradiente descendente\n",
        "    model.weight.data = model.weight.data - learning_rate * model.weight.grad.data\n",
        "\n",
        "\n",
        "    # zeragem parâmetros próximo cálculo do gradiente\n",
        "    model.weight.grad.data.zero_()\n",
        "\n",
        "    # verbose\n",
        "    if (epoch+1) % 20 == 0:\n",
        "        print('Epoch[{}/{}], loss: {:.6f}'\n",
        "              .format(epoch+1, num_epochs, loss.data))\n",
        "\n",
        "# predição com os próprios dados de treino\n",
        "y_predict = model(x_train_bias)\n",
        "print(\"\\nPredições com os pesos treinados:\")\n",
        "print(y_predict)\n"
      ],
      "metadata": {
        "colab": {
          "base_uri": "https://localhost:8080/"
        },
        "id": "ztX2z8Yz-ZML",
        "outputId": "4da83f1b-1772-48e0-a7a2-cc260ce597b1"
      },
      "execution_count": null,
      "outputs": [
        {
          "output_type": "stream",
          "name": "stdout",
          "text": [
            "Epoch[20/100], loss: 0.021274\n",
            "Epoch[40/100], loss: 0.021185\n",
            "Epoch[60/100], loss: 0.021172\n",
            "Epoch[80/100], loss: 0.021170\n",
            "Epoch[100/100], loss: 0.021169\n",
            "\n",
            "Predições com os pesos treinados:\n",
            "tensor([[0.9474],\n",
            "        [0.7515],\n",
            "        [0.9148],\n",
            "        [0.4577],\n",
            "        [0.7842],\n",
            "        [0.5230],\n",
            "        [0.7189],\n",
            "        [0.2618],\n",
            "        [0.8168],\n",
            "        [0.3597],\n",
            "        [0.2944],\n",
            "        [0.5883],\n",
            "        [0.6209],\n",
            "        [0.6536],\n",
            "        [0.4903],\n",
            "        [0.8495],\n",
            "        [0.4903],\n",
            "        [0.5556],\n",
            "        [0.6862],\n",
            "        [0.4903],\n",
            "        [0.5883],\n",
            "        [0.6536],\n",
            "        [0.7189],\n",
            "        [0.6536],\n",
            "        [0.7515],\n",
            "        [0.8168],\n",
            "        [0.8821],\n",
            "        [0.8495],\n",
            "        [0.6209],\n",
            "        [0.5230],\n",
            "        [0.4577],\n",
            "        [0.4577],\n",
            "        [0.5556],\n",
            "        [0.6209],\n",
            "        [0.4250],\n",
            "        [0.6209],\n",
            "        [0.8495],\n",
            "        [0.7189],\n",
            "        [0.4903],\n",
            "        [0.4577],\n",
            "        [0.4577],\n",
            "        [0.6536],\n",
            "        [0.5556],\n",
            "        [0.2944],\n",
            "        [0.4903],\n",
            "        [0.5230],\n",
            "        [0.5230],\n",
            "        [0.6862],\n",
            "        [0.3271],\n",
            "        [0.5230]], grad_fn=<MmBackward0>)\n"
          ]
        }
      ]
    },
    {
      "cell_type": "code",
      "source": [
        "# Exercicio 3\n",
        "model = torch.nn.Linear(in_features=2, out_features=1, bias=False)\n",
        "w0_list = w1_list = []\n",
        "num_epochs = 100\n",
        "learning_rate = 0.5\n",
        "w0_list.append(model.weight.data[0][0])\n",
        "w1_list.append(model.weight.data[0][1])\n",
        "\n",
        "for epoch in range(num_epochs):\n",
        "    inputs = Variable(x_train_bias)\n",
        "    target = Variable(y_train)\n",
        "\n",
        "    # forward - predict\n",
        "    y_pred = model(x_train_bias)\n",
        "\n",
        "    #loss cálculo da função de perda\n",
        "    loss = torch.mean((y_pred - y_train)**2)\n",
        "\n",
        "    # backward propagation - cálculo gradient\n",
        "    loss.backward()\n",
        "\n",
        "    # gradiente descendente\n",
        "    model.weight.data = model.weight.data - learning_rate * model.weight.grad.data\n",
        "    w0_list.append(model.weight.data[0][0])\n",
        "    w1_list.append(model.weight.data[0][1])\n",
        "\n",
        "    # zeragem parâmetros próximo cálculo do gradiente\n",
        "    model.weight.grad.data.zero_()\n",
        "\n",
        "    # verbose\n",
        "    if (epoch+1) % 20 == 0:\n",
        "        print('Epoch[{}/{}], loss: {:.6f}'\n",
        "              .format(epoch+1, num_epochs, loss.data))"
      ],
      "metadata": {
        "colab": {
          "base_uri": "https://localhost:8080/"
        },
        "id": "v2yWY3GH3cOB",
        "outputId": "b4ed184c-58c3-492d-d091-7e39ac92c365"
      },
      "execution_count": null,
      "outputs": [
        {
          "output_type": "stream",
          "name": "stdout",
          "text": [
            "Epoch[20/100], loss: 0.023830\n",
            "Epoch[40/100], loss: 0.021555\n",
            "Epoch[60/100], loss: 0.021225\n",
            "Epoch[80/100], loss: 0.021177\n",
            "Epoch[100/100], loss: 0.021171\n"
          ]
        }
      ]
    },
    {
      "cell_type": "code",
      "source": [
        "w0_list"
      ],
      "metadata": {
        "colab": {
          "base_uri": "https://localhost:8080/"
        },
        "id": "Pzbhtdgx7FYC",
        "outputId": "68cd4f62-7c1c-4f72-cb36-1c5cfe8216ac"
      },
      "execution_count": null,
      "outputs": [
        {
          "output_type": "execute_result",
          "data": {
            "text/plain": [
              "[tensor(0.4012),\n",
              " tensor(0.0892),\n",
              " tensor(0.5560),\n",
              " tensor(0.2009),\n",
              " tensor(0.5009),\n",
              " tensor(0.2025),\n",
              " tensor(0.5001),\n",
              " tensor(0.2307),\n",
              " tensor(0.4862),\n",
              " tensor(0.2508),\n",
              " tensor(0.4763),\n",
              " tensor(0.2717),\n",
              " tensor(0.4659),\n",
              " tensor(0.2912),\n",
              " tensor(0.4563),\n",
              " tensor(0.3099),\n",
              " tensor(0.4471),\n",
              " tensor(0.3276),\n",
              " tensor(0.4384),\n",
              " tensor(0.3446),\n",
              " tensor(0.4300),\n",
              " tensor(0.3607),\n",
              " tensor(0.4221),\n",
              " tensor(0.3760),\n",
              " tensor(0.4145),\n",
              " tensor(0.3907),\n",
              " tensor(0.4073),\n",
              " tensor(0.4046),\n",
              " tensor(0.4004),\n",
              " tensor(0.4179),\n",
              " tensor(0.3938),\n",
              " tensor(0.4306),\n",
              " tensor(0.3876),\n",
              " tensor(0.4427),\n",
              " tensor(0.3816),\n",
              " tensor(0.4542),\n",
              " tensor(0.3759),\n",
              " tensor(0.4651),\n",
              " tensor(0.3705),\n",
              " tensor(0.4756),\n",
              " tensor(0.3654),\n",
              " tensor(0.4855),\n",
              " tensor(0.3605),\n",
              " tensor(0.4950),\n",
              " tensor(0.3558),\n",
              " tensor(0.5040),\n",
              " tensor(0.3514),\n",
              " tensor(0.5126),\n",
              " tensor(0.3471),\n",
              " tensor(0.5208),\n",
              " tensor(0.3431),\n",
              " tensor(0.5286),\n",
              " tensor(0.3392),\n",
              " tensor(0.5361),\n",
              " tensor(0.3355),\n",
              " tensor(0.5432),\n",
              " tensor(0.3320),\n",
              " tensor(0.5499),\n",
              " tensor(0.3287),\n",
              " tensor(0.5564),\n",
              " tensor(0.3255),\n",
              " tensor(0.5625),\n",
              " tensor(0.3225),\n",
              " tensor(0.5683),\n",
              " tensor(0.3196),\n",
              " tensor(0.5739),\n",
              " tensor(0.3169),\n",
              " tensor(0.5792),\n",
              " tensor(0.3143),\n",
              " tensor(0.5843),\n",
              " tensor(0.3118),\n",
              " tensor(0.5891),\n",
              " tensor(0.3094),\n",
              " tensor(0.5937),\n",
              " tensor(0.3071),\n",
              " tensor(0.5981),\n",
              " tensor(0.3050),\n",
              " tensor(0.6022),\n",
              " tensor(0.3029),\n",
              " tensor(0.6062),\n",
              " tensor(0.3009),\n",
              " tensor(0.6100),\n",
              " tensor(0.2991),\n",
              " tensor(0.6136),\n",
              " tensor(0.2973),\n",
              " tensor(0.6170),\n",
              " tensor(0.2956),\n",
              " tensor(0.6203),\n",
              " tensor(0.2940),\n",
              " tensor(0.6234),\n",
              " tensor(0.2924),\n",
              " tensor(0.6264),\n",
              " tensor(0.2910),\n",
              " tensor(0.6292),\n",
              " tensor(0.2896),\n",
              " tensor(0.6319),\n",
              " tensor(0.2882),\n",
              " tensor(0.6345),\n",
              " tensor(0.2870),\n",
              " tensor(0.6370),\n",
              " tensor(0.2858),\n",
              " tensor(0.6393),\n",
              " tensor(0.2846),\n",
              " tensor(0.6415),\n",
              " tensor(0.2835),\n",
              " tensor(0.6436),\n",
              " tensor(0.2825),\n",
              " tensor(0.6457),\n",
              " tensor(0.2815),\n",
              " tensor(0.6476),\n",
              " tensor(0.2805),\n",
              " tensor(0.6494),\n",
              " tensor(0.2796),\n",
              " tensor(0.6512),\n",
              " tensor(0.2788),\n",
              " tensor(0.6528),\n",
              " tensor(0.2779),\n",
              " tensor(0.6544),\n",
              " tensor(0.2772),\n",
              " tensor(0.6559),\n",
              " tensor(0.2764),\n",
              " tensor(0.6574),\n",
              " tensor(0.2757),\n",
              " tensor(0.6587),\n",
              " tensor(0.2750),\n",
              " tensor(0.6600),\n",
              " tensor(0.2744),\n",
              " tensor(0.6613),\n",
              " tensor(0.2738),\n",
              " tensor(0.6625),\n",
              " tensor(0.2732),\n",
              " tensor(0.6636),\n",
              " tensor(0.2726),\n",
              " tensor(0.6647),\n",
              " tensor(0.2721),\n",
              " tensor(0.6657),\n",
              " tensor(0.2716),\n",
              " tensor(0.6667),\n",
              " tensor(0.2711),\n",
              " tensor(0.6676),\n",
              " tensor(0.2706),\n",
              " tensor(0.6685),\n",
              " tensor(0.2702),\n",
              " tensor(0.6694),\n",
              " tensor(0.2698),\n",
              " tensor(0.6702),\n",
              " tensor(0.2694),\n",
              " tensor(0.6709),\n",
              " tensor(0.2690),\n",
              " tensor(0.6717),\n",
              " tensor(0.2686),\n",
              " tensor(0.6724),\n",
              " tensor(0.2683),\n",
              " tensor(0.6730),\n",
              " tensor(0.2680),\n",
              " tensor(0.6737),\n",
              " tensor(0.2677),\n",
              " tensor(0.6743),\n",
              " tensor(0.2674),\n",
              " tensor(0.6748),\n",
              " tensor(0.2671),\n",
              " tensor(0.6754),\n",
              " tensor(0.2668),\n",
              " tensor(0.6759),\n",
              " tensor(0.2665),\n",
              " tensor(0.6764),\n",
              " tensor(0.2663),\n",
              " tensor(0.6769),\n",
              " tensor(0.2661),\n",
              " tensor(0.6773),\n",
              " tensor(0.2658),\n",
              " tensor(0.6778),\n",
              " tensor(0.2656),\n",
              " tensor(0.6782),\n",
              " tensor(0.2654),\n",
              " tensor(0.6786),\n",
              " tensor(0.2652),\n",
              " tensor(0.6789),\n",
              " tensor(0.2651),\n",
              " tensor(0.6793),\n",
              " tensor(0.2649),\n",
              " tensor(0.6796),\n",
              " tensor(0.2647),\n",
              " tensor(0.6800),\n",
              " tensor(0.2646),\n",
              " tensor(0.6803),\n",
              " tensor(0.2644),\n",
              " tensor(0.6806),\n",
              " tensor(0.2643),\n",
              " tensor(0.6808),\n",
              " tensor(0.2641),\n",
              " tensor(0.6811),\n",
              " tensor(0.2640),\n",
              " tensor(0.6814),\n",
              " tensor(0.2639),\n",
              " tensor(0.6816),\n",
              " tensor(0.2637),\n",
              " tensor(0.6818),\n",
              " tensor(0.2636),\n",
              " tensor(0.6820),\n",
              " tensor(0.2635),\n",
              " tensor(0.6823)]"
            ]
          },
          "metadata": {},
          "execution_count": 49
        }
      ]
    },
    {
      "cell_type": "code",
      "source": [
        "w1_list"
      ],
      "metadata": {
        "colab": {
          "base_uri": "https://localhost:8080/"
        },
        "id": "CLwYdpuM7HyE",
        "outputId": "251d81a4-070e-4c43-fd73-51aaca3f1f74"
      },
      "execution_count": null,
      "outputs": [
        {
          "output_type": "execute_result",
          "data": {
            "text/plain": [
              "[tensor(0.4012),\n",
              " tensor(0.0892),\n",
              " tensor(0.5560),\n",
              " tensor(0.2009),\n",
              " tensor(0.5009),\n",
              " tensor(0.2025),\n",
              " tensor(0.5001),\n",
              " tensor(0.2307),\n",
              " tensor(0.4862),\n",
              " tensor(0.2508),\n",
              " tensor(0.4763),\n",
              " tensor(0.2717),\n",
              " tensor(0.4659),\n",
              " tensor(0.2912),\n",
              " tensor(0.4563),\n",
              " tensor(0.3099),\n",
              " tensor(0.4471),\n",
              " tensor(0.3276),\n",
              " tensor(0.4384),\n",
              " tensor(0.3446),\n",
              " tensor(0.4300),\n",
              " tensor(0.3607),\n",
              " tensor(0.4221),\n",
              " tensor(0.3760),\n",
              " tensor(0.4145),\n",
              " tensor(0.3907),\n",
              " tensor(0.4073),\n",
              " tensor(0.4046),\n",
              " tensor(0.4004),\n",
              " tensor(0.4179),\n",
              " tensor(0.3938),\n",
              " tensor(0.4306),\n",
              " tensor(0.3876),\n",
              " tensor(0.4427),\n",
              " tensor(0.3816),\n",
              " tensor(0.4542),\n",
              " tensor(0.3759),\n",
              " tensor(0.4651),\n",
              " tensor(0.3705),\n",
              " tensor(0.4756),\n",
              " tensor(0.3654),\n",
              " tensor(0.4855),\n",
              " tensor(0.3605),\n",
              " tensor(0.4950),\n",
              " tensor(0.3558),\n",
              " tensor(0.5040),\n",
              " tensor(0.3514),\n",
              " tensor(0.5126),\n",
              " tensor(0.3471),\n",
              " tensor(0.5208),\n",
              " tensor(0.3431),\n",
              " tensor(0.5286),\n",
              " tensor(0.3392),\n",
              " tensor(0.5361),\n",
              " tensor(0.3355),\n",
              " tensor(0.5432),\n",
              " tensor(0.3320),\n",
              " tensor(0.5499),\n",
              " tensor(0.3287),\n",
              " tensor(0.5564),\n",
              " tensor(0.3255),\n",
              " tensor(0.5625),\n",
              " tensor(0.3225),\n",
              " tensor(0.5683),\n",
              " tensor(0.3196),\n",
              " tensor(0.5739),\n",
              " tensor(0.3169),\n",
              " tensor(0.5792),\n",
              " tensor(0.3143),\n",
              " tensor(0.5843),\n",
              " tensor(0.3118),\n",
              " tensor(0.5891),\n",
              " tensor(0.3094),\n",
              " tensor(0.5937),\n",
              " tensor(0.3071),\n",
              " tensor(0.5981),\n",
              " tensor(0.3050),\n",
              " tensor(0.6022),\n",
              " tensor(0.3029),\n",
              " tensor(0.6062),\n",
              " tensor(0.3009),\n",
              " tensor(0.6100),\n",
              " tensor(0.2991),\n",
              " tensor(0.6136),\n",
              " tensor(0.2973),\n",
              " tensor(0.6170),\n",
              " tensor(0.2956),\n",
              " tensor(0.6203),\n",
              " tensor(0.2940),\n",
              " tensor(0.6234),\n",
              " tensor(0.2924),\n",
              " tensor(0.6264),\n",
              " tensor(0.2910),\n",
              " tensor(0.6292),\n",
              " tensor(0.2896),\n",
              " tensor(0.6319),\n",
              " tensor(0.2882),\n",
              " tensor(0.6345),\n",
              " tensor(0.2870),\n",
              " tensor(0.6370),\n",
              " tensor(0.2858),\n",
              " tensor(0.6393),\n",
              " tensor(0.2846),\n",
              " tensor(0.6415),\n",
              " tensor(0.2835),\n",
              " tensor(0.6436),\n",
              " tensor(0.2825),\n",
              " tensor(0.6457),\n",
              " tensor(0.2815),\n",
              " tensor(0.6476),\n",
              " tensor(0.2805),\n",
              " tensor(0.6494),\n",
              " tensor(0.2796),\n",
              " tensor(0.6512),\n",
              " tensor(0.2788),\n",
              " tensor(0.6528),\n",
              " tensor(0.2779),\n",
              " tensor(0.6544),\n",
              " tensor(0.2772),\n",
              " tensor(0.6559),\n",
              " tensor(0.2764),\n",
              " tensor(0.6574),\n",
              " tensor(0.2757),\n",
              " tensor(0.6587),\n",
              " tensor(0.2750),\n",
              " tensor(0.6600),\n",
              " tensor(0.2744),\n",
              " tensor(0.6613),\n",
              " tensor(0.2738),\n",
              " tensor(0.6625),\n",
              " tensor(0.2732),\n",
              " tensor(0.6636),\n",
              " tensor(0.2726),\n",
              " tensor(0.6647),\n",
              " tensor(0.2721),\n",
              " tensor(0.6657),\n",
              " tensor(0.2716),\n",
              " tensor(0.6667),\n",
              " tensor(0.2711),\n",
              " tensor(0.6676),\n",
              " tensor(0.2706),\n",
              " tensor(0.6685),\n",
              " tensor(0.2702),\n",
              " tensor(0.6694),\n",
              " tensor(0.2698),\n",
              " tensor(0.6702),\n",
              " tensor(0.2694),\n",
              " tensor(0.6709),\n",
              " tensor(0.2690),\n",
              " tensor(0.6717),\n",
              " tensor(0.2686),\n",
              " tensor(0.6724),\n",
              " tensor(0.2683),\n",
              " tensor(0.6730),\n",
              " tensor(0.2680),\n",
              " tensor(0.6737),\n",
              " tensor(0.2677),\n",
              " tensor(0.6743),\n",
              " tensor(0.2674),\n",
              " tensor(0.6748),\n",
              " tensor(0.2671),\n",
              " tensor(0.6754),\n",
              " tensor(0.2668),\n",
              " tensor(0.6759),\n",
              " tensor(0.2665),\n",
              " tensor(0.6764),\n",
              " tensor(0.2663),\n",
              " tensor(0.6769),\n",
              " tensor(0.2661),\n",
              " tensor(0.6773),\n",
              " tensor(0.2658),\n",
              " tensor(0.6778),\n",
              " tensor(0.2656),\n",
              " tensor(0.6782),\n",
              " tensor(0.2654),\n",
              " tensor(0.6786),\n",
              " tensor(0.2652),\n",
              " tensor(0.6789),\n",
              " tensor(0.2651),\n",
              " tensor(0.6793),\n",
              " tensor(0.2649),\n",
              " tensor(0.6796),\n",
              " tensor(0.2647),\n",
              " tensor(0.6800),\n",
              " tensor(0.2646),\n",
              " tensor(0.6803),\n",
              " tensor(0.2644),\n",
              " tensor(0.6806),\n",
              " tensor(0.2643),\n",
              " tensor(0.6808),\n",
              " tensor(0.2641),\n",
              " tensor(0.6811),\n",
              " tensor(0.2640),\n",
              " tensor(0.6814),\n",
              " tensor(0.2639),\n",
              " tensor(0.6816),\n",
              " tensor(0.2637),\n",
              " tensor(0.6818),\n",
              " tensor(0.2636),\n",
              " tensor(0.6820),\n",
              " tensor(0.2635),\n",
              " tensor(0.6823)]"
            ]
          },
          "metadata": {},
          "execution_count": 50
        }
      ]
    },
    {
      "cell_type": "markdown",
      "metadata": {
        "hidden": true,
        "id": "9zKM4-2UHig7"
      },
      "source": [
        "## Ploting vectors"
      ]
    },
    {
      "cell_type": "code",
      "execution_count": null,
      "metadata": {
        "ExecuteTime": {
          "end_time": "2017-11-23T23:57:26.723894Z",
          "start_time": "2017-11-23T23:57:26.517830Z"
        },
        "hidden": true,
        "id": "hXA1HhnsHig8",
        "outputId": "0b2bf535-a6d8-461a-a543-f67a4d9dfebd",
        "colab": {
          "base_uri": "https://localhost:8080/",
          "height": 430
        }
      },
      "outputs": [
        {
          "output_type": "display_data",
          "data": {
            "text/plain": [
              "<Figure size 640x480 with 1 Axes>"
            ],
            "image/png": "[encoded data removed]"
          },
          "metadata": {}
        }
      ],
      "source": [
        "# Exemplo\n",
        "#w0_list = [0.1, 0.15, 0.2, 0.3]\n",
        "#w1_list = [0.1, 0.2, 0.18, 0.3]\n",
        "plt.scatter(w0_list,w1_list)\n",
        "w0_old = None\n",
        "for (w0,w1) in zip(w0_list,w1_list):\n",
        "    if w0_old:\n",
        "        plt.arrow(w0_old, w1_old, w0-w0_old, w1-w1_old,\n",
        "                  head_length=0.01,head_width=0.01,shape='full',\n",
        "                  length_includes_head=True)\n",
        "    w0_old,w1_old = w0,w1"
      ]
    },
    {
      "cell_type": "markdown",
      "metadata": {
        "heading_collapsed": true,
        "id": "ssef368KHihA"
      },
      "source": [
        "# Aprendizados"
      ]
    },
    {
      "cell_type": "code",
      "execution_count": null,
      "metadata": {
        "hidden": true,
        "id": "CrrRGo2CHihA"
      },
      "outputs": [],
      "source": []
    }
  ],
  "metadata": {
    "accelerator": "TPU",
    "colab": {
      "provenance": [],
      "gpuType": "V28",
      "toc_visible": true
    },
    "kernelspec": {
      "display_name": "Python 3.10.2 64-bit",
      "language": "python",
      "name": "python3"
    },
    "language_info": {
      "name": "python",
      "version": "3.10.2"
    },
    "vscode": {
      "interpreter": {
        "hash": "5fe3e6f0cdaab8afdc61c52912fda83f7c0a71baaea1897dd7498e2df01e69ec"
      }
    }
  },
  "nbformat": 4,
  "nbformat_minor": 0
}